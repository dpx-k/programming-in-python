{
 "cells": [
  {
   "cell_type": "markdown",
   "metadata": {},
   "source": [
    "# Lesson 1.2: Python Basics\n",
    "## Topics Covered:\n",
    "- Syntax and Semantics\n",
    "- Variables and Data Types\n",
    "- Basic Operators (Arithmetic, Comparison, Logical)\n"
   ]
  },
  {
   "cell_type": "markdown",
   "metadata": {},
   "source": [
    "## 1. Syntax and Semantics\n",
    "\n",
    "**Question 1:** Write a Python program to print \"Hello, World!\"."
   ]
  },
  {
   "cell_type": "code",
   "execution_count": 1,
   "metadata": {},
   "outputs": [
    {
     "name": "stdout",
     "output_type": "stream",
     "text": [
      "Hello, World\n"
     ]
    }
   ],
   "source": [
    "# Your code here\n",
    "print(\"Hello, World\")"
   ]
  },
  {
   "cell_type": "markdown",
   "metadata": {},
   "source": [
    "**Question 2:** Write a Python program that takes a user input and prints it."
   ]
  },
  {
   "cell_type": "code",
   "execution_count": 2,
   "metadata": {},
   "outputs": [
    {
     "name": "stdout",
     "output_type": "stream",
     "text": [
      "Python Speedrun\n"
     ]
    }
   ],
   "source": [
    "# Your code here\n",
    "\n",
    "usr_input = input(\"Enter something\")\n",
    "print(usr_input)"
   ]
  },
  {
   "cell_type": "markdown",
   "metadata": {},
   "source": [
    "**Question 3:** Write a Python program to check if a number is positive, negative, or zero."
   ]
  },
  {
   "cell_type": "code",
   "execution_count": 5,
   "metadata": {},
   "outputs": [
    {
     "name": "stdout",
     "output_type": "stream",
     "text": [
      "Negative\n"
     ]
    }
   ],
   "source": [
    "# Your code here\n",
    "\n",
    "usr_num = int(input(\"Enter a number to check for odd or even\"))\n",
    "\n",
    "if usr_num == 0: \n",
    "    print(\"Zero\")\n",
    "elif usr_num > 0: \n",
    "    print(\"Positive\")\n",
    "else: \n",
    "    print(\"Negative\")"
   ]
  },
  {
   "cell_type": "markdown",
   "metadata": {},
   "source": [
    "**Question 4:** Write a Python program to find the largest of three numbers."
   ]
  },
  {
   "cell_type": "code",
   "execution_count": 10,
   "metadata": {},
   "outputs": [
    {
     "name": "stdout",
     "output_type": "stream",
     "text": [
      "C is largest\n"
     ]
    }
   ],
   "source": [
    "# Your code here\n",
    "\n",
    "a = 100 \n",
    "b = 500\n",
    "c = 21589\n",
    "\n",
    "if a > b and a > c:\n",
    "    print(\"A is largest\")\n",
    "elif b > c and b > a: \n",
    "    print(\"B is largest\")\n",
    "else: \n",
    "    print(\"C is largest\") \n",
    "    "
   ]
  },
  {
   "cell_type": "markdown",
   "metadata": {},
   "source": [
    "**Question 5:** Write a Python program to calculate the factorial of a number."
   ]
  },
  {
   "cell_type": "code",
   "execution_count": null,
   "metadata": {},
   "outputs": [
    {
     "name": "stdout",
     "output_type": "stream",
     "text": [
      "1\n",
      "2\n",
      "3\n",
      "4\n",
      "5\n",
      "120\n"
     ]
    }
   ],
   "source": [
    "# Your code here\n",
    "\n",
    "num = int(input(\"Enter the number to find factorial: \"))\n",
    "factorial = 1\n",
    "\n",
    "for i in range(1, num + 1): \n",
    "    factorial *= i\n",
    "    \n",
    "print(factorial)"
   ]
  },
  {
   "cell_type": "markdown",
   "metadata": {},
   "source": [
    "## 2. Variables and Data Types\n",
    "\n",
    "**Question 6:** Create variables of different data types: integer, float, string, and boolean. Print their values and types."
   ]
  },
  {
   "cell_type": "code",
   "execution_count": 22,
   "metadata": {},
   "outputs": [
    {
     "name": "stdout",
     "output_type": "stream",
     "text": [
      "10 Data Type: <class 'int'>\n",
      "20.2 Data Type: <class 'float'>\n",
      "True Data Type: <class 'bool'>\n",
      "This is a string Data Type: <class 'str'>\n"
     ]
    }
   ],
   "source": [
    "# Your code here\n",
    "\n",
    "integer = 10 \n",
    "floating_point = 20.20\n",
    "boolean_value = True\n",
    "String = \"This is a string\"\n",
    "\n",
    "print(integer, f\"Data Type: {type(integer)}\")\n",
    "print(floating_point, f\"Data Type: {type(floating_point)}\")\n",
    "print(boolean_value, f\"Data Type: {type(boolean_value)}\")\n",
    "print(String, f\"Data Type: {type(String)}\")"
   ]
  },
  {
   "cell_type": "markdown",
   "metadata": {},
   "source": [
    "**Question 7:** Write a Python program to swap the values of two variables."
   ]
  },
  {
   "cell_type": "code",
   "execution_count": null,
   "metadata": {},
   "outputs": [],
   "source": [
    "# Your code here\n",
    "\n",
    "a = 10\n",
    "b = 10\n",
    "\n",
    "temp = a \n",
    "a = b \n",
    "b = temp"
   ]
  },
  {
   "cell_type": "markdown",
   "metadata": {},
   "source": [
    "**Question 8:** Write a Python program to convert Celsius to Fahrenheit."
   ]
  },
  {
   "cell_type": "code",
   "execution_count": 24,
   "metadata": {},
   "outputs": [
    {
     "name": "stdout",
     "output_type": "stream",
     "text": [
      "89.6\n"
     ]
    }
   ],
   "source": [
    "# Your code here\n",
    "\n",
    "celsius = 32\n",
    "fahrenheit = (celsius * (9/5)) + 32\n",
    "print(fahrenheit)"
   ]
  },
  {
   "cell_type": "markdown",
   "metadata": {},
   "source": [
    "**Question 9:** Write a Python program to concatenate two strings."
   ]
  },
  {
   "cell_type": "code",
   "execution_count": null,
   "metadata": {},
   "outputs": [
    {
     "name": "stdout",
     "output_type": "stream",
     "text": [
      "Full name:  DeepakKrishna\n"
     ]
    }
   ],
   "source": [
    "# Your code here\n",
    "\n",
    "first_name = \"Deepak\"\n",
    "last_name = \"Krishna\"\n",
    "\n",
    "print(\"Full name:\", first_name+last_name)"
   ]
  },
  {
   "cell_type": "markdown",
   "metadata": {},
   "source": [
    "**Question 10:** Write a Python program to check if a variable is of a specific data type."
   ]
  },
  {
   "cell_type": "code",
   "execution_count": 26,
   "metadata": {},
   "outputs": [
    {
     "name": "stdout",
     "output_type": "stream",
     "text": [
      "10 Data Type: <class 'int'>\n",
      "20.2 Data Type: <class 'float'>\n",
      "True Data Type: <class 'bool'>\n",
      "This is a string Data Type: <class 'str'>\n"
     ]
    }
   ],
   "source": [
    "# Your code here\n",
    "\n",
    "integer = 10 \n",
    "floating_point = 20.20\n",
    "boolean_value = True\n",
    "String = \"This is a string\"\n",
    "\n",
    "print(integer, f\"Data Type: {type(integer)}\")\n",
    "print(floating_point, f\"Data Type: {type(floating_point)}\")\n",
    "print(boolean_value, f\"Data Type: {type(boolean_value)}\")\n",
    "print(String, f\"Data Type: {type(String)}\")"
   ]
  },
  {
   "cell_type": "markdown",
   "metadata": {},
   "source": [
    "## 3. Basic Operators (Arithmetic, Comparison, Logical)\n",
    "\n",
    "**Question 11:** Write a Python program to perform arithmetic operations: addition, subtraction, multiplication, and division."
   ]
  },
  {
   "cell_type": "code",
   "execution_count": 27,
   "metadata": {},
   "outputs": [
    {
     "name": "stdout",
     "output_type": "stream",
     "text": [
      "Addition :  13\n",
      "Subtraction :  7\n",
      "Multiplication :  30\n",
      "Division (float) :  3.3333333333333335\n",
      "Division (floor) :  3\n",
      "Modulus :  1\n",
      "Exponent :  1000\n"
     ]
    }
   ],
   "source": [
    "# Your code here\n",
    "\n",
    "a=10\n",
    "b=3\n",
    "print('Addition : ', a + b)\n",
    "print('Subtraction : ', a - b)\n",
    "print('Multiplication : ', a * b)\n",
    "print('Division (float) : ', a / b)\n",
    "print('Division (floor) : ', a // b)\n",
    "print('Modulus : ', a % b)\n",
    "print('Exponent : ', a ** b)"
   ]
  },
  {
   "cell_type": "markdown",
   "metadata": {},
   "source": [
    "**Question 12:** Write a Python program to demonstrate comparison operators: equal to, not equal to, greater than, less than."
   ]
  },
  {
   "cell_type": "code",
   "execution_count": 31,
   "metadata": {},
   "outputs": [
    {
     "name": "stdout",
     "output_type": "stream",
     "text": [
      "Dayyuumm you still alive???!!!\n"
     ]
    }
   ],
   "source": [
    "# Your code here\n",
    "\n",
    "age = int(input(\"Enter your age: \"))\n",
    "\n",
    "if age >= 18 and age < 60: \n",
    "    print(\"You can smoke\")\n",
    "elif age >= 60 and age < 90: \n",
    "    print(\"This is no age to do that\")\n",
    "elif age >= 90: \n",
    "    print(\"Dayyuumm you still alive???!!!\")\n",
    "elif age < 18 and age >= 12: \n",
    "    print(\"Abbe chotu!!\")\n",
    "elif age < 12: \n",
    "    print(\"Breathe Air!!\")\n",
    "else: \n",
    "    print(\"Are you sure, you entered the correct age?\")"
   ]
  },
  {
   "cell_type": "markdown",
   "metadata": {},
   "source": [
    "**Question 13:** Write a Python program to demonstrate logical operators: and, or, not."
   ]
  },
  {
   "cell_type": "code",
   "execution_count": null,
   "metadata": {},
   "outputs": [],
   "source": [
    "# Your code here\n",
    "\n",
    "a = True\n",
    "b = False\n",
    "print(\"a and b:\", a and b)  \n",
    "print(\"a or b:\", a or b)  \n",
    "print(\"not a:\", not a)  \n",
    "print(\"not b:\", not b)  \n",
    "\n",
    "x = 10\n",
    "y = 20\n",
    "\n",
    "print(\"x > 5 and y < 30:\", x > 5 and y < 30)  \n",
    "print(\"x < 5 or y > 15:\", x < 5 or y > 15)  \n",
    "print(\"not(x == 10):\", not(x == 10))  \n",
    "\n"
   ]
  },
  {
   "cell_type": "markdown",
   "metadata": {},
   "source": [
    "**Question 14:** Write a Python program to calculate the square of a number."
   ]
  },
  {
   "cell_type": "code",
   "execution_count": 35,
   "metadata": {},
   "outputs": [
    {
     "name": "stdout",
     "output_type": "stream",
     "text": [
      "400\n"
     ]
    }
   ],
   "source": [
    "# Your code here\n",
    "\n",
    "square = int(input(\"Enter a number to find it's square: \"))\n",
    "\n",
    "square **= 2\n",
    "print(square)"
   ]
  },
  {
   "cell_type": "markdown",
   "metadata": {},
   "source": [
    "**Question 15:** Write a Python program to check if a number is even or odd."
   ]
  },
  {
   "cell_type": "code",
   "execution_count": 37,
   "metadata": {},
   "outputs": [
    {
     "name": "stdout",
     "output_type": "stream",
     "text": [
      "Odd\n"
     ]
    }
   ],
   "source": [
    "# Your code here\n",
    "\n",
    "num = int(input(\"Enter a number to check odd or eve\"))\n",
    "\n",
    "if num % 2 == 0: \n",
    "    print(\"Even\")\n",
    "else: \n",
    "    print(\"Odd\")"
   ]
  },
  {
   "cell_type": "markdown",
   "metadata": {},
   "source": [
    "**Question 16:** Write a Python program to find the sum of the first n natural numbers."
   ]
  },
  {
   "cell_type": "code",
   "execution_count": 47,
   "metadata": {},
   "outputs": [
    {
     "name": "stdout",
     "output_type": "stream",
     "text": [
      "55\n"
     ]
    }
   ],
   "source": [
    "# Your code here\n",
    "\n",
    "n = int(input(\"Enter a number to find the sum of the first n natural numbers\"))\n",
    "sum = 0\n",
    "\n",
    "for j in range(1, n+1):\n",
    "    sum += j \n",
    "    \n",
    "    \n",
    "print(sum)"
   ]
  },
  {
   "cell_type": "markdown",
   "metadata": {},
   "source": [
    "**Question 17:** Write a Python program to check if a year is a leap year."
   ]
  },
  {
   "cell_type": "code",
   "execution_count": 58,
   "metadata": {},
   "outputs": [],
   "source": [
    "# Your code here\n",
    "\n",
    "year = int(input(\"Enter a number to check for leap year\"))\n",
    "\n",
    "if year % 4 == 0:\n",
    "    if year % 100 == 0 and year % 400 == 0: \n",
    "        print(\"Leap Year\")\n",
    "    else: \n",
    "        print(\"Not a Leap Year\")\n"
   ]
  },
  {
   "cell_type": "markdown",
   "metadata": {},
   "source": [
    "**Question 18:** Write a Python program to reverse a string."
   ]
  },
  {
   "cell_type": "code",
   "execution_count": 66,
   "metadata": {},
   "outputs": [
    {
     "name": "stdout",
     "output_type": "stream",
     "text": [
      "gnirts a sihT\n"
     ]
    }
   ],
   "source": [
    "# Your code here\n",
    "\n",
    "String = \"This a string\"\n",
    "reverse_string = String[::-1]\n",
    "\n",
    "print(reverse_string) \n",
    "    "
   ]
  },
  {
   "cell_type": "markdown",
   "metadata": {},
   "source": [
    "**Question 19:** Write a Python program to check if a string is a palindrome."
   ]
  },
  {
   "cell_type": "code",
   "execution_count": 68,
   "metadata": {},
   "outputs": [
    {
     "name": "stdout",
     "output_type": "stream",
     "text": [
      "rcecar\n",
      "Not a palindrome\n"
     ]
    }
   ],
   "source": [
    "# Your code here\n",
    "\n",
    "String = \"racecr\"\n",
    "reverse_string = String[::-1]\n",
    "\n",
    "print(reverse_string)\n",
    "\n",
    "if String == reverse_string: \n",
    "    print(\"Palindrome\")\n",
    "else: \n",
    "    print(\"Not a palindrome\")"
   ]
  },
  {
   "cell_type": "markdown",
   "metadata": {},
   "source": [
    "**Question 20:** Write a Python program to sort a list of numbers in ascending order."
   ]
  },
  {
   "cell_type": "code",
   "execution_count": 69,
   "metadata": {},
   "outputs": [
    {
     "name": "stdout",
     "output_type": "stream",
     "text": [
      "[10, 15, 20, 30, 33, 40, 55, 60, 69, 78]\n"
     ]
    }
   ],
   "source": [
    "# Your code here\n",
    "\n",
    "lst = [10, 30, 40, 60, 20, 15, 33, 55, 78, 69]\n",
    "\n",
    "print(sorted(lst))"
   ]
  }
 ],
 "metadata": {
  "kernelspec": {
   "display_name": "Python 3",
   "language": "python",
   "name": "python3"
  },
  "language_info": {
   "codemirror_mode": {
    "name": "ipython",
    "version": 3
   },
   "file_extension": ".py",
   "mimetype": "text/x-python",
   "name": "python",
   "nbconvert_exporter": "python",
   "pygments_lexer": "ipython3",
   "version": "3.12.9"
  }
 },
 "nbformat": 4,
 "nbformat_minor": 4
}

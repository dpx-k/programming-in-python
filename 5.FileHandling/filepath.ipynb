{
 "cells": [
  {
   "cell_type": "code",
   "execution_count": 1,
   "metadata": {},
   "outputs": [
    {
     "name": "stdout",
     "output_type": "stream",
     "text": [
      "The current working directory is: \n",
      " f:\\Python\\programming-in-python\\5.FileHandling\n"
     ]
    }
   ],
   "source": [
    "import os\n",
    "\n",
    "cwd = os.getcwd() \n",
    "print(f\"The current working directory is: \\n {cwd}\")"
   ]
  },
  {
   "cell_type": "code",
   "execution_count": 4,
   "metadata": {},
   "outputs": [
    {
     "name": "stdout",
     "output_type": "stream",
     "text": [
      "Directory 'package' is created!\n"
     ]
    }
   ],
   "source": [
    "# Creating a new directory\n",
    "\n",
    "new_directory = 'package'\n",
    "os.mkdir(new_directory)\n",
    "\n",
    "print(f\"Directory '{new_directory}' is created!\")"
   ]
  },
  {
   "cell_type": "code",
   "execution_count": null,
   "metadata": {},
   "outputs": [
    {
     "name": "stdout",
     "output_type": "stream",
     "text": [
      "['coursera_meta_files', 'destination.txt', 'filehandling.ipynb', 'filepath.ipynb', 'newfile.txt', 'package', 'secure.txt', 'source.txt', 'test.bin', 'test.txt']\n"
     ]
    }
   ],
   "source": [
    "# Listing files and directories \n",
    "\n",
    "items = os.listdir('.')\n",
    "print(items)"
   ]
  },
  {
   "cell_type": "code",
   "execution_count": null,
   "metadata": {},
   "outputs": [
    {
     "name": "stdout",
     "output_type": "stream",
     "text": [
      "Package\\File.text\n"
     ]
    }
   ],
   "source": [
    "# Joining Paths \n",
    "\n",
    "dir_name = \"Package\" \n",
    "file_name = \"File.text\"\n",
    "\n",
    "full_path = os.path.join(dir_name, file_name) #.join is an inbuilt string function \n",
    "\n",
    "print(full_path)"
   ]
  },
  {
   "cell_type": "code",
   "execution_count": 8,
   "metadata": {},
   "outputs": [
    {
     "name": "stdout",
     "output_type": "stream",
     "text": [
      "f:\\Python\\programming-in-python\\5.FileHandling\\Package\\File.text\n"
     ]
    }
   ],
   "source": [
    "# Creating a practical file path \n",
    "\n",
    "full_path = os.path.join(cwd, dir_name, file_name)\n",
    "print(full_path)"
   ]
  },
  {
   "cell_type": "code",
   "execution_count": 9,
   "metadata": {},
   "outputs": [
    {
     "name": "stdout",
     "output_type": "stream",
     "text": [
      "The file path 'example.txt doesn't exist\n"
     ]
    }
   ],
   "source": [
    "# Checking if a file path exists or not \n",
    "\n",
    "path = 'example.txt'\n",
    "\n",
    "if os.path.exists(path): \n",
    "    print(f\"The file path '{path} exists\")\n",
    "else: \n",
    "    print(f\"The file path '{path} doesn't exist\")"
   ]
  },
  {
   "cell_type": "code",
   "execution_count": 16,
   "metadata": {},
   "outputs": [
    {
     "name": "stdout",
     "output_type": "stream",
     "text": [
      "'example.txt' is a file.\n"
     ]
    }
   ],
   "source": [
    "# checking if a path is file or directory \n",
    "\n",
    "path = 'example.txt'\n",
    "\n",
    "if os.path.isfile(path): \n",
    "    print(f\"'{path}' is a file.\")\n",
    "elif os.path.isdir(path): \n",
    "    print(f\"'{path}' is a directory\")\n",
    "else: \n",
    "    print(f\"'{path}' is neither a file nor a directory\")\n"
   ]
  },
  {
   "cell_type": "code",
   "execution_count": 17,
   "metadata": {},
   "outputs": [
    {
     "name": "stdout",
     "output_type": "stream",
     "text": [
      "f:\\Python\\programming-in-python\\5.FileHandling\\example.txt\n"
     ]
    }
   ],
   "source": [
    "# getting the absolute path \n",
    "\n",
    "relative_path = 'example.txt'\n",
    "absolute_path = os.path.abspath(relative_path)\n",
    "\n",
    "print(absolute_path)"
   ]
  }
 ],
 "metadata": {
  "kernelspec": {
   "display_name": "Python 3",
   "language": "python",
   "name": "python3"
  },
  "language_info": {
   "codemirror_mode": {
    "name": "ipython",
    "version": 3
   },
   "file_extension": ".py",
   "mimetype": "text/x-python",
   "name": "python",
   "nbconvert_exporter": "python",
   "pygments_lexer": "ipython3",
   "version": "3.12.9"
  }
 },
 "nbformat": 4,
 "nbformat_minor": 2
}

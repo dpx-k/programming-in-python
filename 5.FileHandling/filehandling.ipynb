{
 "cells": [
  {
   "cell_type": "code",
   "execution_count": 9,
   "metadata": {},
   "outputs": [
    {
     "name": "stdout",
     "output_type": "stream",
     "text": [
      "Hello there!This line oneThis is line twoThis is line three\n",
      "append mode adds a line at the end of the file instead of overwriting it \n",
      "The cursor starts at the end of the text file\n"
     ]
    }
   ],
   "source": [
    "# reading the contents of a file as a whole \n",
    "\n",
    "with open('newfile.txt', 'r') as file: \n",
    "    content = file.read()\n",
    "    print(content)\n"
   ]
  },
  {
   "cell_type": "code",
   "execution_count": 10,
   "metadata": {},
   "outputs": [
    {
     "name": "stdout",
     "output_type": "stream",
     "text": [
      "Hello there!This line oneThis is line twoThis is line three\n",
      "append mode adds a line at the end of the file instead of overwriting it \n",
      "The cursor starts at the end of the text file \n",
      "\n",
      "Hello, World\n",
      "This a newline\n",
      " \n",
      "\n",
      "Ace\n",
      "Atlas\n",
      "Bailey\n",
      "Bear\n",
      "Blaze\n",
      "Boomer\n",
      "Buddy\n",
      "Coco\n",
      "Cooper\n",
      "Duke\n",
      "Dozer\n",
      "Echo\n",
      "Gizmo\n",
      "Harley\n",
      "Mac\n",
      "Max\n",
      "Milo\n",
      "Oscar\n",
      "Rex\n",
      "Rocky\n",
      "Rocket\n",
      "Wolfie \n",
      "\n"
     ]
    }
   ],
   "source": [
    "# same as above but we'll turn that into a function \n",
    "\n",
    "def read_file_contents(filename): \n",
    "    with open(filename, 'r') as file: \n",
    "        content = file.read()\n",
    "        print(content, '\\n')\n",
    "        \n",
    "read_file_contents('newfile.txt')\n",
    "read_file_contents('test.txt')\n",
    "read_file_contents('petnames.txt')"
   ]
  },
  {
   "cell_type": "code",
   "execution_count": 11,
   "metadata": {},
   "outputs": [
    {
     "name": "stdout",
     "output_type": "stream",
     "text": [
      "Hello, World\n",
      "\n",
      "['This a newline\\n']\n",
      "This a newline\n",
      "\n"
     ]
    }
   ],
   "source": [
    "# read a file line by line \n",
    "\n",
    "with open('test.txt', 'r') as file: \n",
    "    content = file.readline() # reads only the first line \n",
    "    print(content)\n",
    "    \n",
    "    # converts every line into a string and appends it to a single list \n",
    "    text = file.readlines()\n",
    "    print(text)\n",
    "    \n",
    "    # iterate throught the 'text' list \n",
    "    for line in text: \n",
    "        print(line)"
   ]
  },
  {
   "cell_type": "code",
   "execution_count": 12,
   "metadata": {},
   "outputs": [
    {
     "name": "stdout",
     "output_type": "stream",
     "text": [
      "Hello, World\n",
      "This a newline\n",
      "\n"
     ]
    }
   ],
   "source": [
    "# writing to a file (Overwriting)\n",
    "\n",
    "# the previous contents will be erased completely and the specified text will be written into a clean text file \n",
    "with open('test.txt', 'w') as file: \n",
    "    file.write(\"Hello, World\\n\")\n",
    "    file.write(\"This a newline\\n\")\n",
    "    \n",
    "    # the below won't work coz you can't read and write to a file at the same file - you have to close the file and open the file again\n",
    "    # content = file.read()\n",
    "    # print(content)\n",
    "    \n",
    "with open('test.txt', 'r') as file: \n",
    "    content = file.read()\n",
    "    print(content)"
   ]
  },
  {
   "cell_type": "code",
   "execution_count": 13,
   "metadata": {},
   "outputs": [],
   "source": [
    "# writing to a file(without overwriting) -- using the append mode\n",
    "\n",
    "with open('test.txt', 'a') as file: \n",
    "    file.write(\"\\nAppend operation taking place!!\")\n",
    "    "
   ]
  },
  {
   "cell_type": "code",
   "execution_count": 14,
   "metadata": {},
   "outputs": [
    {
     "name": "stdout",
     "output_type": "stream",
     "text": [
      "Hello, World\n",
      "This a newline\n",
      "\n",
      "Append operation taking place!!\n",
      "First Line\n",
      "Second Line\n",
      "Third Line\n",
      "\n"
     ]
    }
   ],
   "source": [
    "# writring a list of lines to a file \n",
    "\n",
    "lines = ['\\nFirst Line\\n', 'Second Line\\n', 'Third Line\\n']\n",
    "\n",
    "with open('test.txt', 'a') as file: \n",
    "    file.writelines(lines)\n",
    "    \n",
    "with open('test.txt', 'r') as file: \n",
    "    content = file.read()\n",
    "    print(content)"
   ]
  },
  {
   "cell_type": "code",
   "execution_count": 17,
   "metadata": {},
   "outputs": [
    {
     "name": "stdout",
     "output_type": "stream",
     "text": [
      "b'\\x00\\x01\\x02\\x03\\x04'\n"
     ]
    }
   ],
   "source": [
    "# Handling binary files \n",
    "\n",
    "\n",
    "#writing to a binary file\n",
    "\n",
    "data = b\"\\x00\\x01\\x02\\x03\\x04\"\n",
    "\n",
    "with open('test.bin', 'wb') as file: # wb - write byte\n",
    "    file.write(data)\n",
    "    \n",
    "# Reading from a binary file \n",
    "\n",
    "with open('test.bin', 'rb') as file: \n",
    "    content = file.read()\n",
    "    print(content)"
   ]
  },
  {
   "cell_type": "code",
   "execution_count": 19,
   "metadata": {},
   "outputs": [
    {
     "name": "stdout",
     "output_type": "stream",
     "text": [
      "Lorem Ipsum is simply dummy text of the printing and typesetting industry. \n",
      "Lorem Ipsum has been the industry's standard dummy text ever since the 1500s, when an unknown printer took a galley of type \n",
      "and scrambled it to make a type specimen book. It has survived not only five centuries, but also the leap into electronic \n",
      "typesetting, remaining essentially unchanged. It was popularised in the 1960s with the release of Letraset sheets containing \n",
      "Lorem Ipsum passages, and more recently with desktop publishing software like Aldus PageMaker including versions of Lorem Ipsum.\n"
     ]
    }
   ],
   "source": [
    "# read a from a source file, write to a destination file\n",
    "\n",
    "with open('source.txt', 'r') as file: \n",
    "    content = file.read()\n",
    "    \n",
    "with open('destination.txt', 'w') as file: \n",
    "    file.write(content)\n",
    "    \n",
    "with open('destination.txt', 'r') as file: \n",
    "    content = file.read()\n",
    "    print(content)"
   ]
  },
  {
   "cell_type": "code",
   "execution_count": 44,
   "metadata": {},
   "outputs": [
    {
     "name": "stdout",
     "output_type": "stream",
     "text": [
      "Lorem Ipsum is simply dummy text of the printing and typesetting industry. \n",
      "\n",
      "Lorem Ipsum has been the industry's standard dummy text ever since the 1500s, when an unknown printer took a galley of type \n",
      "\n",
      "and scrambled it to make a type specimen book. It has survived not only five centuries, but also the leap into electronic \n",
      "\n",
      "typesetting, remaining essentially unchanged. It was popularised in the 1960s with the release of Letraset sheets containing \n",
      "\n",
      "Lorem Ipsum passages, and more recently with desktop publishing software like Aldus PageMaker including versions of Lorem Ipsum.\n",
      "\n",
      "Lines: 5\n",
      "Words: 91\n",
      "Characters: 578\n"
     ]
    }
   ],
   "source": [
    "# read a text file,count the number of lines, words, characters in the file and print it on the console \n",
    "\n",
    "def count_things(file): \n",
    "    with open(file, 'r') as file: \n",
    "        lines = file.readlines()\n",
    "        \n",
    "        # Number of lines\n",
    "        line_count = len(lines)\n",
    "            \n",
    "        # Number of words \n",
    "        word_count = sum(len(line.split()) for line in lines)\n",
    "        \n",
    "        # Number of chars \n",
    "        char_count = sum(len(line) for line in lines) \n",
    "        \n",
    "        return lines, line_count, word_count, char_count\n",
    "        \n",
    "\n",
    "\n",
    "content, lines, words, chars = count_things('source.txt')\n",
    "\n",
    "for line in content: \n",
    "    print(line)\n",
    "\n",
    "print(f\"\\nLines: {lines}\")\n",
    "print(f\"Words: {words}\")\n",
    "print(f\"Characters: {chars}\")\n",
    "\n"
   ]
  },
  {
   "cell_type": "markdown",
   "metadata": {},
   "source": [
    "The w+ mode in python is used to open a file for both reading and writing. If the file does not exist, it will be created\n",
    "if it does exist, it's content is truncated (Overwritten) "
   ]
  },
  {
   "cell_type": "code",
   "execution_count": 47,
   "metadata": {},
   "outputs": [
    {
     "name": "stdout",
     "output_type": "stream",
     "text": [
      "This is a secure\n",
      "This file contains encrypted contents!\n",
      "\n"
     ]
    },
    {
     "data": {
      "text/plain": [
       "' \\nfile.seek() is mandatory because the cursor is sitauted at the end of the file after writing, so we have to bring it back to\\nthe start of the file \\n'"
      ]
     },
     "execution_count": 47,
     "metadata": {},
     "output_type": "execute_result"
    }
   ],
   "source": [
    "# writing and the reading \n",
    "\n",
    "with open('secure.txt', 'w+') as file: \n",
    "    file.write(\"This is a secure\\n\")\n",
    "    file.write(\"This file contains encrypted contents!\\n\")\n",
    "    \n",
    "    # Move the cursor to the beginning of the file \n",
    "    file.seek(0) # to the 0th index \n",
    "    \n",
    "    content = file.read()\n",
    "    print(content)\n",
    "    \n",
    "''' \n",
    "file.seek() is mandatory because the cursor is sitauted at the end of the file after writing, so we have to bring it back to\n",
    "the start of the file \n",
    "'''\n",
    "    "
   ]
  },
  {
   "cell_type": "markdown",
   "metadata": {},
   "source": []
  }
 ],
 "metadata": {
  "kernelspec": {
   "display_name": "Python 3",
   "language": "python",
   "name": "python3"
  },
  "language_info": {
   "codemirror_mode": {
    "name": "ipython",
    "version": 3
   },
   "file_extension": ".py",
   "mimetype": "text/x-python",
   "name": "python",
   "nbconvert_exporter": "python",
   "pygments_lexer": "ipython3",
   "version": "3.12.9"
  }
 },
 "nbformat": 4,
 "nbformat_minor": 2
}

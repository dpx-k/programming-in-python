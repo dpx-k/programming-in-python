{
 "cells": [
  {
   "cell_type": "markdown",
   "metadata": {},
   "source": [
    "# Module 3: Data Structures Assignments\n",
    "## Lesson 3.1: Lists\n",
    "### Assignment 1: Creating and Accessing Lists\n",
    "\n",
    "Create a list of the first 20 positive integers. Print the list.\n",
    "\n",
    "### Assignment 2: Accessing List Elements\n",
    "\n",
    "Print the first, middle, and last elements of the list created in Assignment 1.\n",
    "\n",
    "### Assignment 3: List Slicing\n",
    "\n",
    "Print the first five elements, the last five elements, and the elements from index 5 to 15 of the list created in Assignment 1.\n",
    "\n",
    "### Assignment 4: List Comprehensions\n",
    "\n",
    "Create a new list containing the squares of the first 10 positive integers using a list comprehension. Print the new list.\n",
    "\n",
    "### Assignment 5: Filtering Lists\n",
    "\n",
    "Create a new list containing only the even numbers from the list created in Assignment 1 using a list comprehension. Print the new list.\n",
    "\n",
    "### Assignment 6: List Methods\n",
    "\n",
    "Create a list of random numbers and sort it in ascending and descending order. Remove the duplicates from the list and print the modified list.\n",
    "\n",
    "### Assignment 7: Nested Lists\n",
    "\n",
    "Create a nested list representing a 3x3 matrix and print the matrix. Access and print the element at the second row and third column.\n",
    "\n",
    "### Assignment 8: List of Dictionaries\n",
    "\n",
    "Create a list of dictionaries where each dictionary represents a student with keys 'name' and 'score'. Sort the list of dictionaries by the 'score' in descending order and print the sorted list.\n",
    "\n",
    "### Assignment 9: Matrix Transposition\n",
    "\n",
    "Write a function that takes a 3x3 matrix (nested list) as input and returns its transpose. Print the original and transposed matrices.\n",
    "\n",
    "### Assignment 10: Flattening a Nested List\n",
    "\n",
    "Write a function that takes a nested list and flattens it into a single list. Print the original and flattened lists.\n",
    "\n",
    "### Assignment 11: List Manipulation\n",
    "\n",
    "Create a list of the first 10 positive integers. Remove the elements at indices 2, 4, and 6, and insert the element '99' at index 5. Print the modified list.\n",
    "\n",
    "### Assignment 12: List Zipping\n",
    "\n",
    "Create two lists of the same length. Use the `zip` function to combine these lists into a list of tuples and print the result.\n",
    "\n",
    "### Assignment 13: List Reversal\n",
    "\n",
    "Write a function that takes a list and returns a new list with the elements in reverse order. Print the original and reversed lists.\n",
    "\n",
    "### Assignment 14: List Rotation\n",
    "\n",
    "Write a function that rotates a list by n positions. Print the original and rotated lists.\n",
    "\n",
    "### Assignment 15: List Intersection\n",
    "\n",
    "Write a function that takes two lists and returns a new list containing only the elements that are present in both lists. Print the intersected list."
   ]
  },
  {
   "cell_type": "code",
   "execution_count": 1,
   "metadata": {},
   "outputs": [
    {
     "name": "stdout",
     "output_type": "stream",
     "text": [
      "[1, 2, 3, 4, 5, 6, 7, 8, 9, 10, 11, 12, 13, 14, 15, 16, 17, 18, 19, 20]\n"
     ]
    }
   ],
   "source": [
    "# Assignment 1 \n",
    "\n",
    "first_twenty_numbers = [x for x in range(1,21)]\n",
    "print(first_twenty_numbers)"
   ]
  },
  {
   "cell_type": "code",
   "execution_count": null,
   "id": "e0eca68b",
   "metadata": {},
   "outputs": [
    {
     "name": "stdout",
     "output_type": "stream",
     "text": [
      "First Element:  1\n",
      "Middle Element:  11\n",
      "Last Element:  1\n"
     ]
    }
   ],
   "source": [
    "# Assignment 2 \n",
    "\n",
    "print(\"First Element: \", first_twenty_numbers[0])\n",
    "print(\"Middle Element: \", first_twenty_numbers[len(first_twenty_numbers)//2])\n",
    "print(\"Last Element: \", first_twenty_numbers[-1])\n",
    "\n"
   ]
  },
  {
   "cell_type": "code",
   "execution_count": 5,
   "id": "41fefe9d",
   "metadata": {},
   "outputs": [
    {
     "name": "stdout",
     "output_type": "stream",
     "text": [
      "first five elements:  [1, 2, 3, 4, 5]\n",
      "Five to Fifteeen:  [6, 7, 8, 9, 10, 11, 12, 13, 14, 15]\n",
      "Last five numbers:  [16, 17, 18, 19, 20]\n"
     ]
    }
   ],
   "source": [
    "# Assignment 3 \n",
    "\n",
    "print('first five elements: ', first_twenty_numbers[:5])\n",
    "print('Five to Fifteeen: ', first_twenty_numbers[5:15])\n",
    "print('Last five numbers: ', first_twenty_numbers[-5:])\n"
   ]
  },
  {
   "cell_type": "code",
   "execution_count": 7,
   "id": "28d2ad48",
   "metadata": {},
   "outputs": [
    {
     "name": "stdout",
     "output_type": "stream",
     "text": [
      "[1, 4, 9, 16, 25, 36, 49, 64, 81, 100]\n"
     ]
    }
   ],
   "source": [
    "# Assignment 4 \n",
    "\n",
    "squares = [x**2 for x in range(1, 11)]\n",
    "print(squares)"
   ]
  },
  {
   "cell_type": "code",
   "execution_count": 8,
   "id": "82f76c08",
   "metadata": {},
   "outputs": [
    {
     "name": "stdout",
     "output_type": "stream",
     "text": [
      "[2, 4, 6, 8, 10, 12, 14, 16, 18, 20]\n"
     ]
    }
   ],
   "source": [
    "# Assignment 5 \n",
    "\n",
    "even_numbers = [x for x in first_twenty_numbers if x % 2 == 0]\n",
    "print(even_numbers)"
   ]
  },
  {
   "cell_type": "code",
   "execution_count": null,
   "id": "674138a1",
   "metadata": {},
   "outputs": [
    {
     "name": "stdout",
     "output_type": "stream",
     "text": [
      "[12, 12, 29, 34, 38, 42, 42, 47, 54, 56, 56, 56, 60, 63, 64, 69, 89, 89, 96]\n",
      "[96, 89, 89, 69, 64, 63, 60, 56, 56, 56, 54, 47, 42, 42, 38, 34, 29, 12, 12]\n",
      "[96, 89, 69, 64, 63, 60, 56, 54, 47, 42, 38, 34, 29, 12]\n"
     ]
    }
   ],
   "source": [
    "# Assignment 6\n",
    "\n",
    "random_numbers = [56, 89, 38, 47, 12, 34, 96, 69, 42, 54, 29, 60, 42, 56, 63, 64, 56, 89, 12]\n",
    "\n",
    "random_numbers.sort()\n",
    "print(random_numbers)\n",
    "\n",
    "random_numbers.sort(reverse=True)\n",
    "print(random_numbers)\n",
    "\n",
    "unique_numbers = []\n",
    "\n",
    "for num in random_numbers: \n",
    "    if num not in unique_numbers: \n",
    "        unique_numbers.append(num)\n",
    "\n",
    "print(unique_numbers)"
   ]
  },
  {
   "cell_type": "code",
   "execution_count": 9,
   "id": "3dcb01e5",
   "metadata": {},
   "outputs": [
    {
     "name": "stdout",
     "output_type": "stream",
     "text": [
      "6\n"
     ]
    }
   ],
   "source": [
    "# Assignment 7\n",
    "\n",
    "two_dimensional_matrix = [[1,2,3] ,[4,5,6], [7,8,9]]\n",
    "print(two_dimensional_matrix[1][2])"
   ]
  },
  {
   "cell_type": "code",
   "execution_count": 3,
   "id": "5e1183f6",
   "metadata": {},
   "outputs": [
    {
     "name": "stdout",
     "output_type": "stream",
     "text": [
      "[{'Atharv': 20}, {'Dhruv': 12}, {'Deepak': 26}, {'Ishan': 89}, {'Prateek': 124}]\n"
     ]
    },
    {
     "ename": "TypeError",
     "evalue": "list indices must be integers or slices, not str",
     "output_type": "error",
     "traceback": [
      "\u001b[31m---------------------------------------------------------------------------\u001b[39m",
      "\u001b[31mTypeError\u001b[39m                                 Traceback (most recent call last)",
      "\u001b[36mCell\u001b[39m\u001b[36m \u001b[39m\u001b[32mIn[3]\u001b[39m\u001b[32m, line 8\u001b[39m\n\u001b[32m      2\u001b[39m team_scores = [{\u001b[33m'\u001b[39m\u001b[33mAtharv\u001b[39m\u001b[33m'\u001b[39m:\u001b[32m20\u001b[39m},\n\u001b[32m      3\u001b[39m                {\u001b[33m'\u001b[39m\u001b[33mDhruv\u001b[39m\u001b[33m'\u001b[39m:\u001b[32m12\u001b[39m},\n\u001b[32m      4\u001b[39m                {\u001b[33m'\u001b[39m\u001b[33mDeepak\u001b[39m\u001b[33m'\u001b[39m:\u001b[32m26\u001b[39m},\n\u001b[32m      5\u001b[39m                {\u001b[33m'\u001b[39m\u001b[33mIshan\u001b[39m\u001b[33m'\u001b[39m:\u001b[32m89\u001b[39m},\n\u001b[32m      6\u001b[39m                {\u001b[33m'\u001b[39m\u001b[33mPrateek\u001b[39m\u001b[33m'\u001b[39m: \u001b[32m124\u001b[39m}]\n\u001b[32m      7\u001b[39m \u001b[38;5;28mprint\u001b[39m(team_scores)\n\u001b[32m----> \u001b[39m\u001b[32m8\u001b[39m \u001b[38;5;28mprint\u001b[39m(\u001b[38;5;28msorted\u001b[39m(\u001b[43mteam_scores\u001b[49m\u001b[43m[\u001b[49m\u001b[33;43m'\u001b[39;49m\u001b[33;43mName: \u001b[39;49m\u001b[33;43m'\u001b[39;49m\u001b[43m]\u001b[49m))\n\u001b[32m      9\u001b[39m \u001b[38;5;28mprint\u001b[39m(team_scores)\n",
      "\u001b[31mTypeError\u001b[39m: list indices must be integers or slices, not str"
     ]
    }
   ],
   "source": [
    "# Assignment 8 -- Pending (involves dictionaries)\n",
    "team_scores = [{'Atharv':20},\n",
    "               {'Dhruv':12},\n",
    "               {'Deepak':26},\n",
    "               {'Ishan':89},\n",
    "               {'Prateek': 124}]\n",
    "print(team_scores)\n",
    "print(sorted(team_scores['Name: ']))\n",
    "print(team_scores)\n",
    "\n",
    "\n"
   ]
  },
  {
   "cell_type": "code",
   "execution_count": 21,
   "id": "b4ee24a8",
   "metadata": {},
   "outputs": [
    {
     "name": "stdout",
     "output_type": "stream",
     "text": [
      "[[], [], []]\n"
     ]
    },
    {
     "ename": "TypeError",
     "evalue": "cannot unpack non-iterable int object",
     "output_type": "error",
     "traceback": [
      "\u001b[31m---------------------------------------------------------------------------\u001b[39m",
      "\u001b[31mTypeError\u001b[39m                                 Traceback (most recent call last)",
      "\u001b[36mCell\u001b[39m\u001b[36m \u001b[39m\u001b[32mIn[21]\u001b[39m\u001b[32m, line 14\u001b[39m\n\u001b[32m      5\u001b[39m \u001b[38;5;66;03m# for i in range(3):\u001b[39;00m\n\u001b[32m      6\u001b[39m \u001b[38;5;66;03m#     extension = []\u001b[39;00m\n\u001b[32m      7\u001b[39m \u001b[38;5;66;03m#     for j in range(3): \u001b[39;00m\n\u001b[32m      8\u001b[39m \u001b[38;5;66;03m#         j = int(input(\"Enter elements\"))\u001b[39;00m\n\u001b[32m      9\u001b[39m \u001b[38;5;66;03m#         extension.append(j)\u001b[39;00m\n\u001b[32m     10\u001b[39m \u001b[38;5;66;03m#     two_D_matrix.extend(extension)\u001b[39;00m\n\u001b[32m     12\u001b[39m \u001b[38;5;28mprint\u001b[39m(two_D_matrix)\n\u001b[32m---> \u001b[39m\u001b[32m14\u001b[39m \u001b[38;5;28;01mfor\u001b[39;00m i,j \u001b[38;5;129;01min\u001b[39;00m \u001b[38;5;28mrange\u001b[39m(\u001b[32m9\u001b[39m): \n\u001b[32m     15\u001b[39m     element = \u001b[38;5;28mint\u001b[39m(\u001b[38;5;28minput\u001b[39m(\u001b[33m\"\u001b[39m\u001b[33mEnter elements: \u001b[39m\u001b[33m\"\u001b[39m))\n\u001b[32m     16\u001b[39m     two_D_matrix.insert([i][j], element)\n",
      "\u001b[31mTypeError\u001b[39m: cannot unpack non-iterable int object"
     ]
    }
   ],
   "source": [
    "# Assignment 9 \n",
    "\n",
    "two_D_matrix = [[],[],[]]\n",
    "\n",
    "# for i in range(3):\n",
    "#     extension = []\n",
    "#     for j in range(3): \n",
    "#         j = int(input(\"Enter elements\"))\n",
    "#         extension.append(j)\n",
    "#     two_D_matrix.extend(extension)\n",
    "    \n",
    "print(two_D_matrix)\n",
    "\n",
    "for i,j in range(9): \n",
    "    element = int(input(\"Enter elements: \"))\n",
    "    two_D_matrix.insert([i][j], element)\n",
    "    "
   ]
  }
 ],
 "metadata": {
  "kernelspec": {
   "display_name": "Python 3",
   "language": "python",
   "name": "python3"
  },
  "language_info": {
   "codemirror_mode": {
    "name": "ipython",
    "version": 3
   },
   "file_extension": ".py",
   "mimetype": "text/x-python",
   "name": "python",
   "nbconvert_exporter": "python",
   "pygments_lexer": "ipython3",
   "version": "3.12.9"
  }
 },
 "nbformat": 4,
 "nbformat_minor": 5
}

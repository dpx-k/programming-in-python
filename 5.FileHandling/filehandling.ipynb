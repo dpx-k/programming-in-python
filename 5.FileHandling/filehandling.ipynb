{
 "cells": [
  {
   "cell_type": "code",
   "execution_count": null,
   "metadata": {},
   "outputs": [
    {
     "name": "stdout",
     "output_type": "stream",
     "text": [
      "Hello there!This line oneThis is line twoThis is line three\n",
      "append mode adds a line at the end of the file instead of overwriting it \n",
      "The cursor starts at the end of the text file\n"
     ]
    }
   ],
   "source": [
    "# reading the contents of a file as a whole \n",
    "\n",
    "with open('newfile.txt', 'r') as file: \n",
    "    content = file.read()\n",
    "    print(content)\n"
   ]
  },
  {
   "cell_type": "code",
   "execution_count": 2,
   "metadata": {},
   "outputs": [
    {
     "name": "stdout",
     "output_type": "stream",
     "text": [
      "Hello there!This line oneThis is line twoThis is line three\n",
      "append mode adds a line at the end of the file instead of overwriting it \n",
      "The cursor starts at the end of the text file \n",
      "\n",
      "it is a long established fact that a reader will be distracted by the readable content of a page when looking at its layout. \n",
      "The point of using Lorem Ipsum is that it has a more-or-less normal distribution of letters, as opposed to using 'Content here, \n",
      "content here', making it look like readable English. Many desktop publishing packages and web page editors now use Lorem Ipsum \n",
      "as their default model text, and a search for 'lorem ipsum' will uncover many web sites still in their infancy. Various versions \n",
      "have evolved over the years, sometimes by accident, sometimes on purpose (injected humour and the like). \n",
      "\n",
      "Ace\n",
      "Atlas\n",
      "Bailey\n",
      "Bear\n",
      "Blaze\n",
      "Boomer\n",
      "Buddy\n",
      "Coco\n",
      "Cooper\n",
      "Duke\n",
      "Dozer\n",
      "Echo\n",
      "Gizmo\n",
      "Harley\n",
      "Mac\n",
      "Max\n",
      "Milo\n",
      "Oscar\n",
      "Rex\n",
      "Rocky\n",
      "Rocket\n",
      "Wolfie \n",
      "\n"
     ]
    }
   ],
   "source": [
    "# same as above but we'll turn that into a function \n",
    "\n",
    "def read_file_contents(filename): \n",
    "    with open(filename, 'r') as file: \n",
    "        content = file.read()\n",
    "        print(content, '\\n')\n",
    "        \n",
    "read_file_contents('newfile.txt')\n",
    "read_file_contents('test.txt')\n",
    "read_file_contents('petnames.txt')"
   ]
  },
  {
   "cell_type": "code",
   "execution_count": null,
   "metadata": {},
   "outputs": [],
   "source": [
    "# read a file line by line \n",
    "\n",
    "with open"
   ]
  }
 ],
 "metadata": {
  "kernelspec": {
   "display_name": "Python 3",
   "language": "python",
   "name": "python3"
  },
  "language_info": {
   "codemirror_mode": {
    "name": "ipython",
    "version": 3
   },
   "file_extension": ".py",
   "mimetype": "text/x-python",
   "name": "python",
   "nbconvert_exporter": "python",
   "pygments_lexer": "ipython3",
   "version": "3.12.9"
  }
 },
 "nbformat": 4,
 "nbformat_minor": 2
}

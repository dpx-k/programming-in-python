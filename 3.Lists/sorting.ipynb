{
 "cells": [
  {
   "cell_type": "code",
   "execution_count": 14,
   "id": "4dbeb950",
   "metadata": {},
   "outputs": [],
   "source": [
    "import random "
   ]
  },
  {
   "cell_type": "code",
   "execution_count": 15,
   "id": "8fb827be",
   "metadata": {},
   "outputs": [
    {
     "name": "stdout",
     "output_type": "stream",
     "text": [
      "[60, 30, 59, 93, 2, 94, 22, 55, 81, 88, 40, 11, 42, 0, 39, 91, 21, 92, 6, 92, 49, 38, 42, 10, 2, 77, 20, 6, 86, 80, 5, 10, 26, 3, 11, 19, 39, 8, 77, 10, 65, 93, 90, 41, 84, 50, 25, 84, 19, 99, 65, 33, 44, 48, 70, 95, 99, 99, 99, 93, 23, 85, 10, 11, 52, 92, 61, 89, 68, 80, 58, 40, 28, 27, 51, 46, 36, 54, 21, 59, 40, 12, 82, 81, 23, 95, 29, 4, 46, 47, 45, 13, 16, 52, 56, 60, 21, 70, 23, 22]\n",
      "[0, 2, 2, 3, 4, 5, 6, 6, 8, 10, 10, 10, 10, 11, 11, 11, 12, 13, 16, 19, 19, 20, 21, 21, 21, 22, 22, 23, 23, 23, 25, 26, 27, 28, 29, 30, 33, 36, 38, 39, 39, 40, 40, 40, 41, 42, 42, 44, 45, 46, 46, 47, 48, 49, 50, 51, 52, 52, 54, 55, 56, 58, 59, 59, 60, 60, 61, 65, 65, 68, 70, 70, 77, 77, 80, 80, 81, 81, 82, 84, 84, 85, 86, 88, 89, 90, 91, 92, 92, 92, 93, 93, 93, 94, 95, 95, 99, 99, 99, 99]\n"
     ]
    }
   ],
   "source": [
    "# create a list with 100 random numbers \n",
    "lst = [random.randint(0, 100) for x in range(100)]\n",
    "print(lst)\n",
    "\n",
    "# .sort() function performs sorting on the original list itself\n",
    "lst.sort()\n",
    "print(lst)"
   ]
  },
  {
   "cell_type": "code",
   "execution_count": 17,
   "id": "2b7734e1",
   "metadata": {},
   "outputs": [
    {
     "name": "stdout",
     "output_type": "stream",
     "text": [
      "[45, 75, 55, 43, 64, 75, 10, 32, 39, 29, 38, 72, 15, 4, 28, 59, 71, 62, 80, 19, 98, 97, 13, 39, 50, 27, 67, 64, 84, 45, 44, 95, 67, 48, 48, 82, 81, 72, 54, 69, 42, 20, 25, 89, 65, 82, 2, 2, 90, 3, 11, 96, 80, 88, 48, 51, 60, 51, 15, 23, 63, 91, 65, 27, 67, 86, 63, 85, 77, 72, 32, 28, 47, 14, 76, 68, 62, 39, 79, 7, 98, 96, 9, 76, 26, 86, 13, 19, 31, 24, 91, 67, 30, 31, 40, 85, 13, 42, 47, 13]\n",
      "[2, 2, 3, 4, 7, 9, 10, 11, 13, 13, 13, 13, 14, 15, 15, 19, 19, 20, 23, 24, 25, 26, 27, 27, 28, 28, 29, 30, 31, 31, 32, 32, 38, 39, 39, 39, 40, 42, 42, 43, 44, 45, 45, 47, 47, 48, 48, 48, 50, 51, 51, 54, 55, 59, 60, 62, 62, 63, 63, 64, 64, 65, 65, 67, 67, 67, 67, 68, 69, 71, 72, 72, 72, 75, 75, 76, 76, 77, 79, 80, 80, 81, 82, 82, 84, 85, 85, 86, 86, 88, 89, 90, 91, 91, 95, 96, 96, 97, 98, 98]\n",
      "[98, 98, 97, 96, 96, 95, 91, 91, 90, 89, 88, 86, 86, 85, 85, 84, 82, 82, 81, 80, 80, 79, 77, 76, 76, 75, 75, 72, 72, 72, 71, 69, 68, 67, 67, 67, 67, 65, 65, 64, 64, 63, 63, 62, 62, 60, 59, 55, 54, 51, 51, 50, 48, 48, 48, 47, 47, 45, 45, 44, 43, 42, 42, 40, 39, 39, 39, 38, 32, 32, 31, 31, 30, 29, 28, 28, 27, 27, 26, 25, 24, 23, 20, 19, 19, 15, 15, 14, 13, 13, 13, 13, 11, 10, 9, 7, 4, 3, 2, 2]\n",
      "[1, -2, 3, 4, 6, 7, 9, -9, 10]\n"
     ]
    }
   ],
   "source": [
    "new_lst = [random.randint(0, 100) for x in range(100)]\n",
    "\n",
    "# sorted sorts the list and stores it in a new list without modifying the original list\n",
    "l2 = sorted(new_lst)\n",
    "\n",
    "print(new_lst)\n",
    "print(l2)\n",
    "\n",
    "# parameter: reverse -- sorts the list and stores in reverse order (descending order basically)\n",
    "l2 = sorted(new_lst, reverse=True)\n",
    "print(l2)\n",
    "\n",
    "# parameter: key = abs -- sorts the list ignoring the sign of the int \n",
    "mix = [9, 7, 4,3,6,-2, -9, 10, 1]\n",
    "l3 = sorted(mix, key=abs)\n",
    "\n",
    "# you can pass lambda expressinos for the key parameter \n",
    "l3 = sorted(mix, key= lambda x : abs(x))\n",
    "print(l3)"
   ]
  }
 ],
 "metadata": {
  "kernelspec": {
   "display_name": "Python 3",
   "language": "python",
   "name": "python3"
  },
  "language_info": {
   "codemirror_mode": {
    "name": "ipython",
    "version": 3
   },
   "file_extension": ".py",
   "mimetype": "text/x-python",
   "name": "python",
   "nbconvert_exporter": "python",
   "pygments_lexer": "ipython3",
   "version": "3.12.10"
  }
 },
 "nbformat": 4,
 "nbformat_minor": 5
}

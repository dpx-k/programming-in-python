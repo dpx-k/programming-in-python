{
 "cells": [
  {
   "cell_type": "markdown",
   "metadata": {},
   "source": [
    "This section will explain in the most general sense to handle modules and packages in python \n"
   ]
  },
  {
   "cell_type": "code",
   "execution_count": 18,
   "metadata": {},
   "outputs": [
    {
     "name": "stdout",
     "output_type": "stream",
     "text": [
      "4.242640687119285\n",
      "3.141592653589793\n"
     ]
    }
   ],
   "source": [
    "# importing a package \n",
    "\n",
    "import math \n",
    "\n",
    "print(math.sqrt(18))\n",
    "print(math.pi)"
   ]
  },
  {
   "cell_type": "code",
   "execution_count": 19,
   "metadata": {},
   "outputs": [
    {
     "name": "stdout",
     "output_type": "stream",
     "text": [
      "4.242640687119285\n",
      "3.141592653589793\n"
     ]
    }
   ],
   "source": [
    "# importing specific methods and attributes from the package \n",
    "\n",
    "from math import sqrt, pi \n",
    "\n",
    "print(math.sqrt(18))\n",
    "print(math.pi)"
   ]
  },
  {
   "cell_type": "code",
   "execution_count": 20,
   "metadata": {},
   "outputs": [
    {
     "name": "stdout",
     "output_type": "stream",
     "text": [
      "0.9495201898161119\n"
     ]
    }
   ],
   "source": [
    "# renaming the module name for easy accessibility \n",
    "\n",
    "import math as m \n",
    "\n",
    "print(m.sin(45.234))"
   ]
  },
  {
   "cell_type": "code",
   "execution_count": 21,
   "metadata": {},
   "outputs": [
    {
     "name": "stdout",
     "output_type": "stream",
     "text": [
      "3.1622776601683795\n",
      "3.0\n",
      "3.141592653589793\n",
      "2.718281828459045\n"
     ]
    }
   ],
   "source": [
    "# import everything from a module and use the methods and attributes without referencing the module name \n",
    "\n",
    "from math import * \n",
    "\n",
    "\n",
    "print(sqrt(10))\n",
    "print(sqrt(9))\n",
    "print(pi)\n",
    "print(e)"
   ]
  },
  {
   "cell_type": "code",
   "execution_count": 22,
   "metadata": {},
   "outputs": [
    {
     "name": "stdout",
     "output_type": "stream",
     "text": [
      "5.859874482048838\n"
     ]
    }
   ],
   "source": [
    "from package.maths import addition\n",
    "from math import pi, e\n",
    "\n",
    "print(addition(pi, e))"
   ]
  },
  {
   "cell_type": "code",
   "execution_count": null,
   "metadata": {},
   "outputs": [
    {
     "name": "stdout",
     "output_type": "stream",
     "text": [
      "5.859874482048838\n"
     ]
    }
   ],
   "source": [
    "import package.maths as \n",
    "\n",
    "print(package.maths.addition(pi, e))"
   ]
  },
  {
   "cell_type": "code",
   "execution_count": 27,
   "metadata": {},
   "outputs": [
    {
     "name": "stdout",
     "output_type": "stream",
     "text": [
      "5.859874482048838\n"
     ]
    },
    {
     "ename": "AttributeError",
     "evalue": "module 'package.maths' has no attribute 'subtraction'",
     "output_type": "error",
     "traceback": [
      "\u001b[31m---------------------------------------------------------------------------\u001b[39m",
      "\u001b[31mAttributeError\u001b[39m                            Traceback (most recent call last)",
      "\u001b[36mCell\u001b[39m\u001b[36m \u001b[39m\u001b[32mIn[27]\u001b[39m\u001b[32m, line 6\u001b[39m\n\u001b[32m      3\u001b[39m \u001b[38;5;28;01mimport\u001b[39;00m\u001b[38;5;250m \u001b[39m\u001b[34;01mpackage\u001b[39;00m\u001b[34;01m.\u001b[39;00m\u001b[34;01mmaths\u001b[39;00m\u001b[38;5;250m \u001b[39m\u001b[38;5;28;01mas\u001b[39;00m\u001b[38;5;250m \u001b[39m\u001b[34;01mmathematics\u001b[39;00m \n\u001b[32m      5\u001b[39m \u001b[38;5;28mprint\u001b[39m(mathematics.addition(pi, e))\n\u001b[32m----> \u001b[39m\u001b[32m6\u001b[39m \u001b[38;5;28mprint\u001b[39m(\u001b[43mmathematics\u001b[49m\u001b[43m.\u001b[49m\u001b[43msubtraction\u001b[49m(pi, e))\n",
      "\u001b[31mAttributeError\u001b[39m: module 'package.maths' has no attribute 'subtraction'"
     ]
    }
   ],
   "source": [
    "# a more easier and structured way \n",
    "\n",
    "import package.maths as mathematics \n",
    "\n",
    "print(mathematics.addition(pi, e))\n",
    "print(mathematics.subtraction(pi, e))"
   ]
  },
  {
   "cell_type": "code",
   "execution_count": null,
   "metadata": {},
   "outputs": [],
   "source": []
  }
 ],
 "metadata": {
  "kernelspec": {
   "display_name": "Python 3",
   "language": "python",
   "name": "python3"
  },
  "language_info": {
   "codemirror_mode": {
    "name": "ipython",
    "version": 3
   },
   "file_extension": ".py",
   "mimetype": "text/x-python",
   "name": "python",
   "nbconvert_exporter": "python",
   "pygments_lexer": "ipython3",
   "version": "3.12.9"
  }
 },
 "nbformat": 4,
 "nbformat_minor": 2
}

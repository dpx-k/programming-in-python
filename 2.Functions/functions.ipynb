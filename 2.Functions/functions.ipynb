{
 "cells": [
  {
   "cell_type": "code",
   "execution_count": 11,
   "metadata": {},
   "outputs": [],
   "source": [
    "## Syntax \n",
    "\n",
    "def sample(parameter): \n",
    "    '''This is a Docstring'''\n",
    "    # Function Body \n",
    "    return -1 "
   ]
  },
  {
   "cell_type": "code",
   "execution_count": 12,
   "metadata": {},
   "outputs": [
    {
     "name": "stdout",
     "output_type": "stream",
     "text": [
      "Odd\n"
     ]
    }
   ],
   "source": [
    "# simple function to check odd or even \n",
    "\n",
    "def check_oddoreve(n): \n",
    "    if n % 2 == 0: \n",
    "        return True \n",
    "    else: \n",
    "        return False \n",
    "    \n",
    "n = int(input(\"Enter a number to check odd or even: \"))\n",
    "\n",
    "if check_oddoreve(n): \n",
    "    print(\"Even\")\n",
    "else: \n",
    "    print(\"Odd\")"
   ]
  },
  {
   "cell_type": "code",
   "execution_count": 13,
   "metadata": {},
   "outputs": [
    {
     "name": "stdout",
     "output_type": "stream",
     "text": [
      "Hello Human, Welcome to the Labyrinth of Death\n",
      "Hello Deepak, Welcome to the Labyrinth of Death\n"
     ]
    }
   ],
   "source": [
    "# default parameters - assign a default value to the parameter, if no value is passed to the function, default parameter will be used \n",
    "# if parameter is passed, the default parameter will be overridden \n",
    "\n",
    "def greet(name = \"Human\"): \n",
    "    print(f\"Hello {name}, Welcome to the Labyrinth of Death\")\n",
    "    \n",
    "greet()\n",
    "greet(\"Deepak\")"
   ]
  },
  {
   "cell_type": "code",
   "execution_count": 14,
   "metadata": {},
   "outputs": [
    {
     "name": "stdout",
     "output_type": "stream",
     "text": [
      "1 2 3 4 5 6 7 8 9 10 Deepak "
     ]
    }
   ],
   "source": [
    "# Variable Length Arguments \n",
    "\n",
    "# Positional Arguments \n",
    "\n",
    "def print_numbers(*Deepak): \n",
    "    for number in Deepak: \n",
    "        print(number, end = \" \")\n",
    "        \n",
    "print_numbers(1,2,3,4,5,6,7,8,9,10, \"Deepak\")\n",
    "\n",
    "# the * operator packs multiple arguments as a tuple \n",
    "# the best convention is to use *args but anything else other than args works too "
   ]
  },
  {
   "cell_type": "code",
   "execution_count": 15,
   "metadata": {},
   "outputs": [
    {
     "name": "stdout",
     "output_type": "stream",
     "text": [
      "name :  Deepak\n",
      "age :  19\n",
      "bodycount :  2\n"
     ]
    }
   ],
   "source": [
    "# Keyword arguments - packs the arguments in the form of key- value pairs (Dictionaries)\n",
    "\n",
    "def print_details(**kwargs): \n",
    "    for key, value in kwargs.items(): \n",
    "        print(key, ': ', value)\n",
    "        \n",
    "print_details(name = \"Deepak\", age = 19, bodycount = 2)"
   ]
  },
  {
   "cell_type": "code",
   "execution_count": 16,
   "metadata": {},
   "outputs": [
    {
     "name": "stdout",
     "output_type": "stream",
     "text": [
      "1 1 2 3 4 56 7 8 99 10 Deepak name :  Deepak\n",
      "age :  19\n",
      "bodycount :  2\n"
     ]
    }
   ],
   "source": [
    "# you can use both keyword arguments and positional arguments in the same function \n",
    "\n",
    "def surprise(*args, **kwargs): \n",
    "    for number in args: \n",
    "        print(number, end = \" \")\n",
    "        \n",
    "    for key, value in kwargs.items(): \n",
    "        print(key, ': ', value)\n",
    "        \n",
    "        \n",
    "# Postional arguments must be placed before key-word arguments\n",
    "surprise(1,1,2,3,4,56,7,8,99,10, \"Deepak\", name = \"Deepak\", age = 19, bodycount = 2)"
   ]
  },
  {
   "cell_type": "code",
   "execution_count": 27,
   "metadata": {},
   "outputs": [
    {
     "data": {
      "text/plain": [
       "35.55555555555556"
      ]
     },
     "execution_count": 27,
     "metadata": {},
     "output_type": "execute_result"
    }
   ],
   "source": [
    "# Convert temperature \n",
    "\n",
    "def convert_temperature(value, unit): \n",
    "    \n",
    "    unit = unit.upper()\n",
    "    \n",
    "    if unit == \"C\": \n",
    "        return value * 9/5 + 32\n",
    "    elif unit == \"F\": \n",
    "        return (value - 32) * 5/9\n",
    "    \n",
    "    \n",
    "convert_temperature(96, 'f')"
   ]
  },
  {
   "cell_type": "markdown",
   "metadata": {},
   "source": [
    "# Lambda functions \n",
    "\n",
    "A lambda function is a small, anonymous function in Python that can have any number of arguments but only one expression. It is often used for short, simple operations where defining a full function is unnecessary."
   ]
  },
  {
   "cell_type": "code",
   "execution_count": null,
   "metadata": {},
   "outputs": [],
   "source": [
    "# Syntax \n",
    "\n",
    "lambda arguments : expression "
   ]
  },
  {
   "cell_type": "code",
   "execution_count": null,
   "metadata": {},
   "outputs": [
    {
     "name": "stdout",
     "output_type": "stream",
     "text": [
      "<class 'function'>\n",
      "28732046753\n",
      "False\n"
     ]
    }
   ],
   "source": [
    "# Example \n",
    "\n",
    "addition = lambda a,b :a + b\n",
    "print(type(addition)) \n",
    "print(addition(28437659246, 294387507))\n",
    "\n",
    "even = lambda n: n % 2 == 0 \n",
    "print(even(35))"
   ]
  },
  {
   "cell_type": "markdown",
   "metadata": {},
   "source": [
    "# The map() function "
   ]
  },
  {
   "cell_type": "code",
   "execution_count": 36,
   "metadata": {},
   "outputs": [
    {
     "name": "stdout",
     "output_type": "stream",
     "text": [
      "[1, 4, 9, 16, 25, 36, 49, 64, 81, 100, 121, 144, 169, 196, 225, 256, 289, 324, 361]\n"
     ]
    }
   ],
   "source": [
    "# map() - applies function call to all the elements in the list \n",
    "\n",
    "numbers = [x for x in range(1, 20)]\n",
    "\n",
    "squares = list(map(lambda n: n**2, numbers))\n",
    "print(squares)\n"
   ]
  },
  {
   "cell_type": "code",
   "execution_count": 37,
   "metadata": {},
   "outputs": [
    {
     "name": "stdout",
     "output_type": "stream",
     "text": [
      "[1, 4, 9, 16, 25, 36, 49, 64, 81, 100]\n"
     ]
    }
   ],
   "source": [
    "# A more easier and comprehensible way of using map \n",
    "\n",
    "def squares(x): \n",
    "    return x * x \n",
    "\n",
    "numbers = [x for x in range(1,11)]\n",
    "squares = list(map(squares, numbers))\n",
    "print(squares)"
   ]
  },
  {
   "cell_type": "code",
   "execution_count": 38,
   "metadata": {},
   "outputs": [
    {
     "name": "stdout",
     "output_type": "stream",
     "text": [
      "[5, 7, 9]\n"
     ]
    }
   ],
   "source": [
    "# using two parameters to the map function \n",
    "\n",
    "num1 = [1,2,3]\n",
    "num2 = [4,5,6]\n",
    "\n",
    "added = list(map(lambda x,y: x+y, num1, num2))\n",
    "print(added)"
   ]
  },
  {
   "cell_type": "code",
   "execution_count": 39,
   "metadata": {},
   "outputs": [
    {
     "name": "stdout",
     "output_type": "stream",
     "text": [
      "[1, 2, 3, 4, 5]\n"
     ]
    }
   ],
   "source": [
    "# convert a list of strings into int \n",
    "str_numbers = ['1', '2', '3', '4', '5']\n",
    "\n",
    "integers = list(map(int, str_numbers))\n",
    "print(integers)"
   ]
  },
  {
   "cell_type": "code",
   "execution_count": 40,
   "metadata": {},
   "outputs": [
    {
     "name": "stdout",
     "output_type": "stream",
     "text": [
      "['APPLE', 'MANGO', 'BANANA', 'GRAPES']\n"
     ]
    }
   ],
   "source": [
    "# convert all the strings in a list to uppercase \n",
    "\n",
    "fruits = ['apple', 'mango', 'banana', 'grapes']\n",
    "\n",
    "capitals = list(map(str.upper, fruits))\n",
    "print(capitals)"
   ]
  },
  {
   "cell_type": "code",
   "execution_count": null,
   "metadata": {},
   "outputs": [
    {
     "name": "stdout",
     "output_type": "stream",
     "text": [
      "['Deepak', 'Prateek']\n"
     ]
    }
   ],
   "source": [
    "# using the map function to fetch values of specified keys \n",
    "\n",
    "details = [\n",
    "    {'name': 'Deepak', 'age': 19}, \n",
    "    {'name': 'Prateek', 'age': 12}\n",
    "]\n",
    "\n",
    "names = list(map(lambda dictionary: dictionary['name'], details))\n",
    "\n",
    "print(names)"
   ]
  },
  {
   "cell_type": "markdown",
   "metadata": {},
   "source": [
    "# The filter() function"
   ]
  },
  {
   "cell_type": "code",
   "execution_count": 44,
   "metadata": {},
   "outputs": [
    {
     "name": "stdout",
     "output_type": "stream",
     "text": [
      "[2, 4, 6, 8, 10, 12, 14, 16, 18, 20]\n"
     ]
    }
   ],
   "source": [
    "#filters elements based on a given function \n",
    "\n",
    "numbers = [x for x in range(1, 21)]\n",
    "\n",
    "even = lambda x : x % 2 == 0\n",
    "\n",
    "even_numbers = list(filter(even, numbers))\n",
    "print(even_numbers)"
   ]
  }
 ],
 "metadata": {
  "kernelspec": {
   "display_name": "Python 3",
   "language": "python",
   "name": "python3"
  },
  "language_info": {
   "codemirror_mode": {
    "name": "ipython",
    "version": 3
   },
   "file_extension": ".py",
   "mimetype": "text/x-python",
   "name": "python",
   "nbconvert_exporter": "python",
   "pygments_lexer": "ipython3",
   "version": "3.12.9"
  }
 },
 "nbformat": 4,
 "nbformat_minor": 2
}

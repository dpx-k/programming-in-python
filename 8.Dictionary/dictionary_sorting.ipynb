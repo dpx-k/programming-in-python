{
 "cells": [
  {
   "cell_type": "code",
   "execution_count": 9,
   "id": "3a38dd02",
   "metadata": {},
   "outputs": [
    {
     "name": "stdout",
     "output_type": "stream",
     "text": [
      "[('A', 2), ('B', 2), ('C', 1), ('D', 4), ('E', 2), ('F', 1), ('I', 2)]\n",
      "D:4\n",
      "E:2\n",
      "B:2\n",
      "A:2\n",
      "I:2\n",
      "F:1\n",
      "C:1\n"
     ]
    }
   ],
   "source": [
    "L = ['E', 'F', 'B', 'A', 'D', 'I', 'I', 'C', 'B', 'A', 'D', 'D', 'E', 'D']\n",
    "\n",
    "d = {}\n",
    "\n",
    "for char in L: \n",
    "    if char in d: \n",
    "        d[char] += 1\n",
    "    else: \n",
    "        d[char] = 1\n",
    "        \n",
    "# sorts dict according to alphabetical order\n",
    "sorted_dict = sorted(d.items())\n",
    "print(sorted_dict) \n",
    "\n",
    "# sort dict according to values \n",
    "sorted_dict = sorted(d.values())\n",
    "\n",
    "new_d = sorted(d.keys(), key = lambda k: d[k], reverse=True)\n",
    "for key in new_d: \n",
    "    print(f\"{key}:{d[key]}\")"
   ]
  }
 ],
 "metadata": {
  "kernelspec": {
   "display_name": "Python 3",
   "language": "python",
   "name": "python3"
  },
  "language_info": {
   "codemirror_mode": {
    "name": "ipython",
    "version": 3
   },
   "file_extension": ".py",
   "mimetype": "text/x-python",
   "name": "python",
   "nbconvert_exporter": "python",
   "pygments_lexer": "ipython3",
   "version": "3.12.10"
  }
 },
 "nbformat": 4,
 "nbformat_minor": 5
}

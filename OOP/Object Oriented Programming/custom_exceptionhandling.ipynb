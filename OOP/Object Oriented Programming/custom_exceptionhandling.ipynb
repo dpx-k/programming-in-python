{
 "cells": [
  {
   "cell_type": "markdown",
   "id": "5a2a8c0f",
   "metadata": {},
   "source": [
    "# Custom Exception Handling (Raise and Throw an Exception) \n",
    "\n"
   ]
  },
  {
   "cell_type": "code",
   "execution_count": 2,
   "id": "225d7721",
   "metadata": {},
   "outputs": [],
   "source": [
    "class Error(Exception): \n",
    "    pass \n",
    "\n",
    "class dobException(Error): \n",
    "    pass "
   ]
  },
  {
   "cell_type": "code",
   "execution_count": 3,
   "id": "c5ab591a",
   "metadata": {},
   "outputs": [
    {
     "name": "stdout",
     "output_type": "stream",
     "text": [
      "Age should be less greater than 20 and less than 30\n"
     ]
    }
   ],
   "source": [
    "year = int(input(\"Enter the date of birth\"))\n",
    "age = 2024 - year\n",
    "\n",
    "try: \n",
    "    if age <= 30 and age >= 20: \n",
    "        print(\"Age is valid, you can apply to the exam\")\n",
    "    else: \n",
    "        raise dobException \n",
    "except dobException: \n",
    "    print(\"Age should be less greater than 20 and less than 30\")\n",
    "    "
   ]
  },
  {
   "cell_type": "code",
   "execution_count": null,
   "id": "dbf717c0",
   "metadata": {},
   "outputs": [],
   "source": []
  }
 ],
 "metadata": {
  "kernelspec": {
   "display_name": "Python 3",
   "language": "python",
   "name": "python3"
  },
  "language_info": {
   "codemirror_mode": {
    "name": "ipython",
    "version": 3
   },
   "file_extension": ".py",
   "mimetype": "text/x-python",
   "name": "python",
   "nbconvert_exporter": "python",
   "pygments_lexer": "ipython3",
   "version": "3.12.9"
  }
 },
 "nbformat": 4,
 "nbformat_minor": 5
}

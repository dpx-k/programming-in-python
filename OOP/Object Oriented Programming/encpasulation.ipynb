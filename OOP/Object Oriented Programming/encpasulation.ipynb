{
 "cells": [
  {
   "cell_type": "markdown",
   "id": "5b3f4c2f",
   "metadata": {},
   "source": [
    "## Encapsulation \n",
    "\n",
    "Encapsulation is the principle of bundling data and methods within a class while restricting direct access to some of its components from outside. It creates a protective barrier around an object's internal state, allowing access only through well-defined interfaces (getters and setters), thereby promoting data hiding and reducing system complexity.\n",
    "\n",
    "Encapsulation is the concept of wrapping data (variable) and methods(functions) together as a single unit. it restricts direct access to some of the object's components, which is a means of preventing accidental interference and misuse of the data "
   ]
  },
  {
   "cell_type": "code",
   "execution_count": null,
   "id": "b507649f",
   "metadata": {},
   "outputs": [
    {
     "data": {
      "text/plain": [
       "'Name: Deepak, Age: 19'"
      ]
     },
     "execution_count": 6,
     "metadata": {},
     "output_type": "execute_result"
    }
   ],
   "source": [
    "# Encapsulation - using getter and setter methods \n",
    "'''\n",
    "There are 3 types of access specifiers to an attribute inside a class: \n",
    "1. Public \n",
    "2. Protected \n",
    "3. Private\n",
    "'''\n",
    "\n",
    "class Person: \n",
    "    def __init__(self, name, age): \n",
    "        self.name = name # public variable \n",
    "        self.age = age # public variable \n",
    "        \n",
    "def get_details(hooman): \n",
    "    return f\"Name: {hooman.name}, Age: {hooman.age}\"\n",
    "\n",
    "person = Person(\"Deepak\", 19)\n",
    "# print(person.name, person.age)\n",
    "\n",
    "# the attributes name and age are accessible outside the class \n",
    "get_details(person)"
   ]
  },
  {
   "cell_type": "code",
   "execution_count": 2,
   "id": "0ebc6bdd",
   "metadata": {},
   "outputs": [
    {
     "data": {
      "text/plain": [
       "['__class__',\n",
       " '__delattr__',\n",
       " '__dict__',\n",
       " '__dir__',\n",
       " '__doc__',\n",
       " '__eq__',\n",
       " '__format__',\n",
       " '__ge__',\n",
       " '__getattribute__',\n",
       " '__getstate__',\n",
       " '__gt__',\n",
       " '__hash__',\n",
       " '__init__',\n",
       " '__init_subclass__',\n",
       " '__le__',\n",
       " '__lt__',\n",
       " '__module__',\n",
       " '__ne__',\n",
       " '__new__',\n",
       " '__reduce__',\n",
       " '__reduce_ex__',\n",
       " '__repr__',\n",
       " '__setattr__',\n",
       " '__sizeof__',\n",
       " '__str__',\n",
       " '__subclasshook__',\n",
       " '__weakref__',\n",
       " 'age',\n",
       " 'name']"
      ]
     },
     "execution_count": 2,
     "metadata": {},
     "output_type": "execute_result"
    }
   ],
   "source": [
    "# use dir() function to list the valid attributes and methods for the object \n",
    "\n",
    "dir(person)"
   ]
  },
  {
   "cell_type": "code",
   "execution_count": null,
   "id": "bde8359a",
   "metadata": {},
   "outputs": [
    {
     "ename": "AttributeError",
     "evalue": "'Person' object has no attribute 'name'",
     "output_type": "error",
     "traceback": [
      "\u001b[31m---------------------------------------------------------------------------\u001b[39m",
      "\u001b[31mAttributeError\u001b[39m                            Traceback (most recent call last)",
      "\u001b[36mCell\u001b[39m\u001b[36m \u001b[39m\u001b[32mIn[8]\u001b[39m\u001b[32m, line 12\u001b[39m\n\u001b[32m      9\u001b[39m     \u001b[38;5;28;01mreturn\u001b[39;00m \u001b[33mf\u001b[39m\u001b[33m\"\u001b[39m\u001b[33mName: \u001b[39m\u001b[38;5;132;01m{\u001b[39;00mhooman.name\u001b[38;5;132;01m}\u001b[39;00m\u001b[33m, Age: \u001b[39m\u001b[38;5;132;01m{\u001b[39;00mhooman.age\u001b[38;5;132;01m}\u001b[39;00m\u001b[33m\"\u001b[39m\n\u001b[32m     11\u001b[39m person = Person(\u001b[33m\"\u001b[39m\u001b[33mDeepak\u001b[39m\u001b[33m\"\u001b[39m, \u001b[32m19\u001b[39m)\n\u001b[32m---> \u001b[39m\u001b[32m12\u001b[39m \u001b[43mget_details\u001b[49m\u001b[43m(\u001b[49m\u001b[43mperson\u001b[49m\u001b[43m)\u001b[49m\n\u001b[32m     14\u001b[39m \u001b[38;5;66;03m# Attributes name and age won't be available\u001b[39;00m\n\u001b[32m     15\u001b[39m \u001b[38;5;28mdir\u001b[39m(person)\n",
      "\u001b[36mCell\u001b[39m\u001b[36m \u001b[39m\u001b[32mIn[8]\u001b[39m\u001b[32m, line 9\u001b[39m, in \u001b[36mget_details\u001b[39m\u001b[34m(hooman)\u001b[39m\n\u001b[32m      8\u001b[39m \u001b[38;5;28;01mdef\u001b[39;00m\u001b[38;5;250m \u001b[39m\u001b[34mget_details\u001b[39m(hooman): \n\u001b[32m----> \u001b[39m\u001b[32m9\u001b[39m     \u001b[38;5;28;01mreturn\u001b[39;00m \u001b[33mf\u001b[39m\u001b[33m\"\u001b[39m\u001b[33mName: \u001b[39m\u001b[38;5;132;01m{\u001b[39;00m\u001b[43mhooman\u001b[49m\u001b[43m.\u001b[49m\u001b[43mname\u001b[49m\u001b[38;5;132;01m}\u001b[39;00m\u001b[33m, Age: \u001b[39m\u001b[38;5;132;01m{\u001b[39;00mhooman.age\u001b[38;5;132;01m}\u001b[39;00m\u001b[33m\"\u001b[39m\n",
      "\u001b[31mAttributeError\u001b[39m: 'Person' object has no attribute 'name'"
     ]
    }
   ],
   "source": [
    "class Person: \n",
    "    # putting double underscores before an attribute makes it private \n",
    "    # private attributes cannot be accessed outside the class \n",
    "    def __init__(self, name, age): \n",
    "        self.__name = name # private variable \n",
    "        self.__age = age # private variable \n",
    "        \n",
    "# name and age cannot be outside the class\n",
    "def get_details(hooman): \n",
    "    return f\"Name: {hooman.name}, Age: {hooman.age}\"\n",
    "\n",
    "person = Person(\"Deepak\", 19)\n",
    "get_details(person)"
   ]
  },
  {
   "cell_type": "code",
   "execution_count": null,
   "id": "61bf65e6",
   "metadata": {},
   "outputs": [
    {
     "data": {
      "text/plain": [
       "['_Person__age',\n",
       " '_Person__name',\n",
       " '__class__',\n",
       " '__delattr__',\n",
       " '__dict__',\n",
       " '__dir__',\n",
       " '__doc__',\n",
       " '__eq__',\n",
       " '__format__',\n",
       " '__ge__',\n",
       " '__getattribute__',\n",
       " '__getstate__',\n",
       " '__gt__',\n",
       " '__hash__',\n",
       " '__init__',\n",
       " '__init_subclass__',\n",
       " '__le__',\n",
       " '__lt__',\n",
       " '__module__',\n",
       " '__ne__',\n",
       " '__new__',\n",
       " '__reduce__',\n",
       " '__reduce_ex__',\n",
       " '__repr__',\n",
       " '__setattr__',\n",
       " '__sizeof__',\n",
       " '__str__',\n",
       " '__subclasshook__',\n",
       " '__weakref__']"
      ]
     },
     "execution_count": 9,
     "metadata": {},
     "output_type": "execute_result"
    }
   ],
   "source": [
    "# Attributes name and age won't be available in public but rather in private\n",
    "dir(person)"
   ]
  },
  {
   "cell_type": "code",
   "execution_count": null,
   "id": "96286514",
   "metadata": {},
   "outputs": [
    {
     "name": "stdout",
     "output_type": "stream",
     "text": [
      "Deepak\n"
     ]
    }
   ],
   "source": [
    "# putting single underscore before an attribute makes it protected \n",
    "# protected attributes cannot be accessed outside the class but can be accessed within a derived class \n",
    "\n",
    "class Person: \n",
    "    def __init__(self, name, age, gender): \n",
    "        self._name = name # protected variable \n",
    "        self._age = age # protected variable \n",
    "        self.gender = gender\n",
    "        \n",
    "class Employee(Person): \n",
    "    def __init__(self, name, age, gender): \n",
    "        super().__init__(name, age, gender)\n",
    "    \n",
    "employee = Employee(\"Deepak\", 19, \"Male\") \n",
    "print(employee._name) # protected variable is accessed \n",
    "\n",
    "# according to OOP the above should not be possible, but since python does not strictly implement oops it works just fine\n"
   ]
  },
  {
   "cell_type": "code",
   "execution_count": 14,
   "id": "e94df228",
   "metadata": {},
   "outputs": [
    {
     "data": {
      "text/plain": [
       "28"
      ]
     },
     "execution_count": 14,
     "metadata": {},
     "output_type": "execute_result"
    }
   ],
   "source": [
    "# Encapsulation using the getter and setter methods\n",
    "\n",
    "''' \n",
    "Getter methods (also called accessors) retrieve the value of an object's attribute, while setter methods (also called mutators) modify the value of an \n",
    "object's attribute. In Python, these are often implemented using the @property decorator for getters and the corresponding setter decorator to control access \n",
    "to class attributes.\n",
    "'''\n",
    "\n",
    "\n",
    "class Person: \n",
    "    def __init__(self, name, age, gender): \n",
    "        self.__name = name # private variable \n",
    "        self.__age = age # private  variable \n",
    "        self.gender = gender\n",
    "    \n",
    "    # getter method for name \n",
    "    def get_name(self): \n",
    "        return self.__name\n",
    "        \n",
    "    # getter method for age\n",
    "    def get_age(self): \n",
    "        return self.__age\n",
    "    \n",
    "    # Setter method for age \n",
    "    def set_age(self, age): \n",
    "        if age > 0: \n",
    "            self.__age = age\n",
    "        else: \n",
    "            print(\"Age cannot be negative\")\n",
    "            \n",
    "person = Person(\"Deepak\", 28, \"Male\")\n",
    "    \n",
    "person.get_age()"
   ]
  }
 ],
 "metadata": {
  "kernelspec": {
   "display_name": "Python 3",
   "language": "python",
   "name": "python3"
  },
  "language_info": {
   "codemirror_mode": {
    "name": "ipython",
    "version": 3
   },
   "file_extension": ".py",
   "mimetype": "text/x-python",
   "name": "python",
   "nbconvert_exporter": "python",
   "pygments_lexer": "ipython3",
   "version": "3.12.9"
  }
 },
 "nbformat": 4,
 "nbformat_minor": 5
}

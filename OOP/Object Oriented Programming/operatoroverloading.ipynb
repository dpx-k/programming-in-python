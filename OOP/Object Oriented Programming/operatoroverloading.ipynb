{
 "cells": [
  {
   "cell_type": "markdown",
   "id": "0e8a917e",
   "metadata": {},
   "source": [
    "## Operator Overloading \n",
    "\n",
    "Operator overloading in Python is the process of defining special methods (also called magic methods or dunder methods) in a class to override the default behavior of operators when they are applied to objects of that class.\n",
    "\n",
    "These methods follow a specific naming convention (e.g., __add__, __sub__, __eq__, etc.) and allow user-defined types (classes) to interact with built-in operators just like native data types.\n",
    "\n",
    "Operator overloading means giving extra meaning to standard operators (like +, -, *, etc.) when they are used with objects of a custom class.\n",
    "\n",
    "In other words, you're telling Python what to do when someone uses an operator on objects of your class."
   ]
  },
  {
   "cell_type": "code",
   "execution_count": 2,
   "id": "966fb7ef",
   "metadata": {},
   "outputs": [
    {
     "name": "stdout",
     "output_type": "stream",
     "text": [
      "Vector(6, 8)\n",
      "Vector(-2, -2)\n",
      "Vector(8, 15)\n"
     ]
    }
   ],
   "source": [
    "# Mathematical operations on vectors using operator overloading\n",
    "\n",
    "class Vector: \n",
    "    def __init__(self, x, y):\n",
    "        self.x = x \n",
    "        self.y = y \n",
    "        \n",
    "    def __add__(self, other): \n",
    "        return Vector(self.x + other.x, self.y + other.y)\n",
    "    \n",
    "    def __sub__(self, other): \n",
    "        return Vector(self.x - other.x, self.y - other.y)\n",
    "    \n",
    "    def __mul__(self, other): \n",
    "        return Vector(self.x * other.x, self.y * other.y)\n",
    "    \n",
    "    def __eq__(self, other): \n",
    "        return Vector(self.x ==other.x, self.y == other.y)\n",
    "    \n",
    "    def __repr__(self): \n",
    "        return f\"Vector({self.x}, {self.y})\"\n",
    "    \n",
    "v1 = Vector(2,3)\n",
    "v2 = Vector(4,5)\n",
    "\n",
    "print(v1 + v2)\n",
    "print(v1 - v2)\n",
    "print(v1 * v2)\n",
    "    \n",
    "        \n"
   ]
  },
  {
   "cell_type": "code",
   "execution_count": null,
   "id": "f9bb8e97",
   "metadata": {},
   "outputs": [],
   "source": [
    "# Mathematical operations on complex numbers "
   ]
  }
 ],
 "metadata": {
  "kernelspec": {
   "display_name": "Python 3",
   "language": "python",
   "name": "python3"
  },
  "language_info": {
   "codemirror_mode": {
    "name": "ipython",
    "version": 3
   },
   "file_extension": ".py",
   "mimetype": "text/x-python",
   "name": "python",
   "nbconvert_exporter": "python",
   "pygments_lexer": "ipython3",
   "version": "3.12.9"
  }
 },
 "nbformat": 4,
 "nbformat_minor": 5
}

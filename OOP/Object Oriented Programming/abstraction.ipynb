{
 "cells": [
  {
   "cell_type": "markdown",
   "id": "5b575e2e",
   "metadata": {},
   "source": [
    "## Abstraction \n",
    "\n",
    "Abstraction is the concept of hiding the complex implementation details and showing only the necessary features of an object. This helps in reducing programming complexity and effort"
   ]
  },
  {
   "cell_type": "code",
   "execution_count": 2,
   "id": "0f05cdfb",
   "metadata": {},
   "outputs": [
    {
     "name": "stdout",
     "output_type": "stream",
     "text": [
      "Vrooooooooooooooooooooooom!!\n",
      "The vehicle is used for driving\n"
     ]
    }
   ],
   "source": [
    "from abc import ABC, abstractmethod \n",
    "\n",
    "# Abstract base class \n",
    "class Vehicle(ABC): \n",
    "    def drive(self): \n",
    "        print(\"The vehicle is used for driving\")\n",
    "        \n",
    "    @abstractmethod  # this method has to be implemented in the derived class mandatorily in our own way(override it)\n",
    "    def start_engine(self): \n",
    "        pass \n",
    "    \n",
    "class Car(Vehicle): \n",
    "    def start_engine(self):\n",
    "        print(\"Vrooooooooooooooooooooooom!!\")\n",
    "        \n",
    "\n",
    "car = Car()\n",
    "car.start_engine()\n",
    "car.drive()\n",
    "        \n"
   ]
  }
 ],
 "metadata": {
  "kernelspec": {
   "display_name": "Python 3",
   "language": "python",
   "name": "python3"
  },
  "language_info": {
   "codemirror_mode": {
    "name": "ipython",
    "version": 3
   },
   "file_extension": ".py",
   "mimetype": "text/x-python",
   "name": "python",
   "nbconvert_exporter": "python",
   "pygments_lexer": "ipython3",
   "version": "3.12.9"
  }
 },
 "nbformat": 4,
 "nbformat_minor": 5
}

{
 "cells": [
  {
   "cell_type": "code",
   "execution_count": 25,
   "metadata": {},
   "outputs": [
    {
     "name": "stdout",
     "output_type": "stream",
     "text": [
      "Hello, World!\n"
     ]
    }
   ],
   "source": [
    "print(\"Hello, World!\")"
   ]
  },
  {
   "cell_type": "code",
   "execution_count": 26,
   "metadata": {},
   "outputs": [
    {
     "name": "stdout",
     "output_type": "stream",
     "text": [
      "<class 'int'>\n",
      "<class 'float'>\n",
      "<class 'str'>\n",
      "<class 'bool'>\n"
     ]
    }
   ],
   "source": [
    "# In Python every data type is an instance of a class \n",
    "\n",
    "integer = 10 \n",
    "floating_point = 12.12\n",
    "string = \"This is a String\"\n",
    "boolean = True\n",
    "\n",
    "print(type(integer))\n",
    "print(type(floating_point))\n",
    "print(type(string))\n",
    "print(type(boolean))"
   ]
  },
  {
   "cell_type": "code",
   "execution_count": 27,
   "metadata": {},
   "outputs": [
    {
     "name": "stdout",
     "output_type": "stream",
     "text": [
      "<class '__main__.Item'> \n",
      "\n",
      "Item Name:  Phone\n",
      "Price:  100\n",
      "Quantity:  3\n",
      "Total Price:  300 \n",
      "\n",
      "Item Name:  Laptop\n",
      "Price:  1000\n",
      "Quantity:  5\n",
      "Total Price:  5000\n"
     ]
    }
   ],
   "source": [
    "# so now we'll create a data type of our own using classes and instanciate those using objects\n",
    "\n",
    "class Item: \n",
    "    def calculate_total_price(self, x, y): \n",
    "        return x * y\n",
    "\n",
    "item1 = Item()\n",
    "print(type(item1), \"\\n\") # now we have an object of type 'Item'\n",
    "\n",
    "# you can assign attributes to those objects \n",
    "\n",
    "item1.name = \"Phone\"\n",
    "item1.price = 100 \n",
    "item1.quantity = 3\n",
    "\n",
    "# invoke a method from the class and store it \n",
    "item1_total_price = item1.calculate_total_price(item1.price, item1.quantity)\n",
    "\n",
    "print(\"Item Name: \", item1.name)\n",
    "print(\"Price: \", item1.price)\n",
    "print(\"Quantity: \", item1.quantity)\n",
    "print(\"Total Price: \",item1_total_price, \"\\n\" )\n",
    "\n",
    "# instanciate another item\n",
    "item2 = Item()\n",
    "\n",
    "item2.name = \"Laptop\"   # hardcoding these attribhutes everytime I create an Object is unconvenient\n",
    "item2.price = 1000 \n",
    "item2.quantity = 5\n",
    "\n",
    "# invoke a method from the class and store it \n",
    "item2_total_price = item1.calculate_total_price(item2.price, item2.quantity)\n",
    "\n",
    "print(\"Item Name: \", item2.name)\n",
    "print(\"Price: \", item2.price)\n",
    "print(\"Quantity: \", item2.quantity)\n",
    "print(\"Total Price: \",item2_total_price )"
   ]
  },
  {
   "cell_type": "code",
   "execution_count": 28,
   "metadata": {},
   "outputs": [
    {
     "name": "stdout",
     "output_type": "stream",
     "text": [
      "300\n",
      "10000\n"
     ]
    }
   ],
   "source": [
    "class Item: \n",
    "    # use a constructor to assignn attributes when a class is created\n",
    "    def __init__(self, name: str, price: float, quantity: int = 0):  # you can also specifiy the data type of the parameters\n",
    "        # Run validations to the received arguments, since assertion is a general exception, you can add strings to it \n",
    "       assert price >= 0, f\"{price} should not be negative\"\n",
    "       assert quantity >= 0, f\"{quantity} should not be negative\"\n",
    "       \n",
    "        # assign to self object\n",
    "       self.name = name\n",
    "       self.price = price \n",
    "       self.quantity = quantity\n",
    "        \n",
    "    def calculate_total_price(self):  # use the self parameter to access these attributes \n",
    "        return self.price * self.quantity\n",
    "\n",
    "\n",
    "item1 = Item(\"Phone\", 100, 3)\n",
    "item2 = Item(\"Laptop\", 2000, 5)\n",
    "\n",
    "print(item1.calculate_total_price())\n",
    "print(item2.calculate_total_price())"
   ]
  },
  {
   "cell_type": "code",
   "execution_count": 37,
   "metadata": {},
   "outputs": [
    {
     "name": "stdout",
     "output_type": "stream",
     "text": [
      "300\n",
      "5000 \n",
      "\n",
      "0.8\n",
      "0.8\n",
      "0.8 \n",
      "\n",
      "{'__module__': '__main__', '__firstlineno__': 1, 'pay_rate': 0.8, '__init__': <function Item.__init__ at 0x000001F614264D60>, 'calculate_total_price': <function Item.calculate_total_price at 0x000001F614264E00>, 'apply_discount': <function Item.apply_discount at 0x000001F614264EA0>, '__static_attributes__': ('name', 'price', 'quantity'), '__dict__': <attribute '__dict__' of 'Item' objects>, '__weakref__': <attribute '__weakref__' of 'Item' objects>, '__doc__': None}\n",
      "{'name': 'Phone', 'price': 100, 'quantity': 3}\n",
      "80.0\n",
      "700.0\n"
     ]
    }
   ],
   "source": [
    "class Item: \n",
    "    # class attribute\n",
    "    pay_rate = 0.8 # the pay rate after 20% discount\n",
    "     \n",
    "    def __init__(self, name: str, price: float, quantity: int = 0):  \n",
    "       assert price >= 0, f\"{price} should not be negative\"\n",
    "       assert quantity >= 0, f\"{quantity} should not be negative\"\n",
    "       \n",
    "       self.name = name\n",
    "       self.price = price \n",
    "       self.quantity = quantity\n",
    "        \n",
    "    def calculate_total_price(self):   \n",
    "        return self.price * self.quantity\n",
    "    \n",
    "    def apply_discount(self): \n",
    "        return self.price * self.pay_rate # this is considered best practice as payrate will be extracted from the instance level which will allow more customization to the pay rate variable \n",
    "        return self.price * Item.pay_rate  # Item.payrate coz you have to access the attribute from the class level \n",
    "\n",
    "\n",
    "item1 = Item(\"Phone\", 100, 3)\n",
    "item2 = Item(\"Laptop\", 1000, 5)\n",
    "\n",
    "print(item1.calculate_total_price())\n",
    "print(item2.calculate_total_price(), \"\\n\")\n",
    "\n",
    "# accesing the class attribute \n",
    "\n",
    "print(Item.pay_rate)\n",
    "\n",
    "# Acessing class attributes through objects \n",
    "print(item1.pay_rate)\n",
    "print(item2.pay_rate, \"\\n\")\n",
    "\n",
    "'''The above is kind of confusing coz objects can access class attributes too. This is because when we try to access a class attribute \n",
    "from an object, the object searches it in the instance level (the constructor), if the attribute is not found, then it moves to the class\n",
    "level to find that attriibute '''\n",
    "\n",
    "# you can use the magic attribute __dict__ to find out the attributes in class and instance level \n",
    "# the dict attribute packs the attributes into a dictionary and returns it \n",
    "\n",
    "print(Item.__dict__) # All the attributes for the class level \n",
    "print(item1.__dict__) # All the attributes for the object level \n",
    "\n",
    "print(item1.apply_discount())\n",
    "\n",
    "# applying a 30% discount for the laptops \n",
    "item2.pay_rate = 0.7 \n",
    "print(item2.apply_discount())\n",
    "\n",
    "\n"
   ]
  },
  {
   "cell_type": "code",
   "execution_count": null,
   "metadata": {},
   "outputs": [],
   "source": [
    "class Item: \n",
    "    pay_rate = 0.8 # the pay rate after 20% discount\n",
    "     \n",
    "    def __init__(self, name: str, price: float, quantity: int = 0):  \n",
    "       assert price >= 0, f\"{price} should not be negative\"\n",
    "       assert quantity >= 0, f\"{quantity} should not be negative\"\n",
    "       \n",
    "       self.name = name\n",
    "       self.price = price \n",
    "       self.quantity = quantity\n",
    "        \n",
    "    def calculate_total_price(self):   \n",
    "        return self.price * self.quantity\n",
    "    \n",
    "    def apply_discount(self): \n",
    "        return self.price * self.pay_rate \n",
    "    \n",
    "\n",
    "\n",
    "item1 = Item(\"Phone\", 100, 3)\n",
    "item2 = Item(\"Laptop\", 1000, 5)\n",
    "\n",
    "\n",
    "\n",
    "\n"
   ]
  }
 ],
 "metadata": {
  "kernelspec": {
   "display_name": "Python 3",
   "language": "python",
   "name": "python3"
  },
  "language_info": {
   "codemirror_mode": {
    "name": "ipython",
    "version": 3
   },
   "file_extension": ".py",
   "mimetype": "text/x-python",
   "name": "python",
   "nbconvert_exporter": "python",
   "pygments_lexer": "ipython3",
   "version": "3.13.2"
  }
 },
 "nbformat": 4,
 "nbformat_minor": 2
}

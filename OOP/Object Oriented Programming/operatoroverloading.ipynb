{
 "cells": [
  {
   "cell_type": "markdown",
   "id": "0e8a917e",
   "metadata": {},
   "source": [
    "## Operator Overloading \n",
    "\n",
    "Operator overloading in Python is the process of defining special methods (also called magic methods or dunder methods) in a class to override the default behavior of operators when they are applied to objects of that class.\n",
    "\n",
    "These methods follow a specific naming convention (e.g., __add__, __sub__, __eq__, etc.) and allow user-defined types (classes) to interact with built-in operators just like native data types.\n",
    "\n",
    "Operator overloading means giving extra meaning to standard operators (like +, -, *, etc.) when they are used with objects of a custom class.\n",
    "\n",
    "In other words, you're telling Python what to do when someone uses an operator on objects of your class."
   ]
  },
  {
   "cell_type": "code",
   "execution_count": null,
   "id": "966fb7ef",
   "metadata": {
    "vscode": {
     "languageId": "plaintext"
    }
   },
   "outputs": [],
   "source": []
  }
 ],
 "metadata": {
  "language_info": {
   "name": "python"
  }
 },
 "nbformat": 4,
 "nbformat_minor": 5
}

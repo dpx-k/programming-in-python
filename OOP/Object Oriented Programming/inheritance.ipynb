{
 "cells": [
  {
   "cell_type": "code",
   "execution_count": null,
   "id": "42ac29a0",
   "metadata": {},
   "outputs": [
    {
     "name": "stdout",
     "output_type": "stream",
     "text": [
      "Engine Type: V9\n",
      "None\n"
     ]
    }
   ],
   "source": [
    "# Inheritance \n",
    "\n",
    "# Base class\n",
    "class Car: \n",
    "    def __init__(self, windows, doors, enginetype): \n",
    "        self.windows = windows\n",
    "        self.doors = doors\n",
    "        self.enginetype = enginetype\n",
    "        \n",
    "    def drive(self): \n",
    "        print(f\"Engine Type: {self.enginetype}\")\n",
    "        \n",
    "\n",
    "car1 = Car(4,5,\"V9\")\n",
    "print(car1.drive())\n",
    " "
   ]
  },
  {
   "cell_type": "code",
   "execution_count": null,
   "id": "e9678657",
   "metadata": {},
   "outputs": [
    {
     "name": "stdout",
     "output_type": "stream",
     "text": [
      "Tesla supports self driving: True\n",
      "Engine Type: Electric\n",
      "Owner: Sparrow Motorsport\n",
      "Engine Type: Electric\n"
     ]
    }
   ],
   "source": [
    "# Single Inheritance \n",
    "\n",
    "# Child class\n",
    "class Tesla(Car): \n",
    "    def __init__(self, windows, doors, enginetype, is_selfdriving, owner_name = \"Sparrow Motorsport\"): \n",
    "        super().__init__(windows, doors, enginetype)\n",
    "        self.is_selfdriving = is_selfdriving\n",
    "        self.owner_name = owner_name\n",
    "        \n",
    "    def selfdriving(self): \n",
    "        print(f\"Tesla supports self driving: {self.is_selfdriving}\")\n",
    "    \n",
    "    def getdetails(self): \n",
    "        print(f\"Engine Type: {self.enginetype}\")\n",
    "        print(f\"Owner: {self.owner_name}\")\n",
    "        \n",
    "tesla = Tesla(4,5,\"Electric\", True)\n",
    "tesla.selfdriving()\n",
    "tesla.getdetails()\n",
    "tesla.drive()"
   ]
  },
  {
   "cell_type": "code",
   "execution_count": 13,
   "id": "fa6dcf8e",
   "metadata": {},
   "outputs": [
    {
     "name": "stdout",
     "output_type": "stream",
     "text": [
      "Subclass must implement this method\n",
      "None\n",
      "Tim says woof!\n",
      "Sparrow Motorsport\n"
     ]
    }
   ],
   "source": [
    "# Multiple inheritance - when a class inherits from more than one base class \n",
    "\n",
    "class Animal: \n",
    "    def __init__(self, name): \n",
    "        self.name = name \n",
    "        \n",
    "    def speak(self): \n",
    "        print(\"Subclass must implement this method\")\n",
    "\n",
    "# Base clas 2 \n",
    "class Pet: \n",
    "    def __init__(self, owner): \n",
    "        self.owner = owner \n",
    "        \n",
    "    \n",
    "# Child class \n",
    "class Dog(Animal, Pet): \n",
    "    def __init__(self, name, owner): \n",
    "        Animal.__init__(self, name)\n",
    "        Pet.__init__(self, owner)\n",
    "    \n",
    "    def sound(self): \n",
    "        return f\"{self.name} says woof!\"\n",
    "\n",
    "dog = Dog(\"Tim\", \"Sparrow Motorsport\") \n",
    "print(dog.speak())\n",
    "print(dog.sound())\n",
    "print(dog.owner)\n"
   ]
  },
  {
   "cell_type": "markdown",
   "id": "bdd48d4c",
   "metadata": {},
   "source": [
    "Inheritance is a fundamental concept in object-oriented programming where a class (the child or subclass) can inherit attributes and methods from another class (the parent or superclass). This mechanism promotes code reuse and establishes an \"is-a\" relationship between classes, allowing the child class to extend or override functionality from the parent while maintaining access to the parent's features."
   ]
  }
 ],
 "metadata": {
  "kernelspec": {
   "display_name": "Python 3",
   "language": "python",
   "name": "python3"
  },
  "language_info": {
   "codemirror_mode": {
    "name": "ipython",
    "version": 3
   },
   "file_extension": ".py",
   "mimetype": "text/x-python",
   "name": "python",
   "nbconvert_exporter": "python",
   "pygments_lexer": "ipython3",
   "version": "3.12.9"
  }
 },
 "nbformat": 4,
 "nbformat_minor": 5
}

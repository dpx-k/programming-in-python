{
 "cells": [
  {
   "cell_type": "code",
   "execution_count": null,
   "metadata": {},
   "outputs": [
    {
     "name": "stdout",
     "output_type": "stream",
     "text": [
      "array('i', [1, 2, 3, 4, 5, 6, 7, 8, 9, 10])\n"
     ]
    }
   ],
   "source": [
    "import array\n",
    "\n",
    "# ref more for the array package \n",
    "arr = array.array('i', [1,2,3,4,5,6,7,8,9,10])\n",
    "print(arr)"
   ]
  },
  {
   "cell_type": "code",
   "execution_count": null,
   "metadata": {},
   "outputs": [
    {
     "name": "stdout",
     "output_type": "stream",
     "text": [
      "3.141592653589793\n",
      "0.37597524919648556\n"
     ]
    }
   ],
   "source": [
    "import math \n",
    "\n",
    "# contains all the math related attributes and methods\n",
    "print(math.pi)\n",
    "print(math.sin(235.234))"
   ]
  },
  {
   "cell_type": "code",
   "execution_count": null,
   "metadata": {},
   "outputs": [
    {
     "name": "stdout",
     "output_type": "stream",
     "text": [
      "55\n",
      "apple\n"
     ]
    }
   ],
   "source": [
    "import random \n",
    "\n",
    "# has everything needed to randomise anything. from generating random numbers to picking up a random element from a list \n",
    "print(random.randint(1,70))\n",
    "\n",
    "fruits = ['apple', 'banana', 'orange', 'cherry', 'tomato']\n",
    "print(random.choice(fruits))"
   ]
  },
  {
   "cell_type": "code",
   "execution_count": 2,
   "metadata": {},
   "outputs": [
    {
     "name": "stdout",
     "output_type": "stream",
     "text": [
      "f:\\Python\\programming-in-python\\6.Modules\\OtherModules\n",
      "Created a directory\n"
     ]
    }
   ],
   "source": [
    "# file and directory access \n",
    "\n",
    "import os \n",
    "\n",
    "# get current working directory\n",
    "print(os.getcwd())\n",
    "\n",
    "# create a folder \n",
    "os.mkdir('test_dir')\n",
    "\n",
    "print(\"Created a directory\")"
   ]
  },
  {
   "cell_type": "code",
   "execution_count": 3,
   "metadata": {},
   "outputs": [
    {
     "name": "stdout",
     "output_type": "stream",
     "text": [
      "Check directory for the file\n"
     ]
    }
   ],
   "source": [
    "import shutil \n",
    "\n",
    "# used for high level operation on files and collection of files \n",
    "\n",
    "shutil.copyfile('source.txt', 'destination.txt') \n",
    "\n",
    "print(\"Check directory for the file\")"
   ]
  },
  {
   "cell_type": "code",
   "execution_count": 6,
   "metadata": {},
   "outputs": [
    {
     "name": "stdout",
     "output_type": "stream",
     "text": [
      "{\"name\": \"Deepak\", \"Age\": 18}\n",
      "<class 'str'>\n"
     ]
    }
   ],
   "source": [
    "import json \n",
    "\n",
    "# used for data serialisation \n",
    "# JSON (Javascript object notation) - is primarily used in api handling \n",
    "\n",
    "data = {'name': \"Deepak\", \"Age\": 18}\n",
    "json_string = json.dumps(data)\n",
    "\n",
    "print(json_string)\n",
    "print(type(json_string))"
   ]
  },
  {
   "cell_type": "code",
   "execution_count": null,
   "metadata": {},
   "outputs": [
    {
     "name": "stdout",
     "output_type": "stream",
     "text": [
      "['name', 'age']\n",
      "['Deepak', '19']\n"
     ]
    }
   ],
   "source": [
    "import csv \n",
    "\n",
    "# used for handling csv files \n",
    "\n",
    "# create a csv file\n",
    "with open(\"example.csv\", mode = 'w', newline = '') as file: \n",
    "    writer = csv.writer(file)\n",
    "    writer.writerow(['name', 'age'])\n",
    "    writer.writerow([\"Deepak\", 19])\n",
    "    \n",
    "# read the contents of the created csv file\n",
    "with open('example.csv', mode = 'r') as file: \n",
    "    reader = csv.reader(file)\n",
    "    for row in reader: \n",
    "        print(row)"
   ]
  },
  {
   "cell_type": "code",
   "execution_count": null,
   "metadata": {},
   "outputs": [
    {
     "name": "stdout",
     "output_type": "stream",
     "text": [
      "2025-04-02 22:12:00.060330\n",
      "2025-04-01 22:12:00.060330\n"
     ]
    }
   ],
   "source": [
    "from datetime import datetime, timedelta \n",
    "\n",
    "# date and time of system\n",
    "now = datetime.now()\n",
    "print(now)\n",
    "\n",
    "yesterday = now - timedelta(days = 1)\n",
    "print(yesterday)"
   ]
  },
  {
   "cell_type": "code",
   "execution_count": null,
   "metadata": {},
   "outputs": [
    {
     "name": "stdout",
     "output_type": "stream",
     "text": [
      "1743612220.8431852\n",
      "1743612225.84525\n"
     ]
    }
   ],
   "source": [
    "import time \n",
    "\n",
    "# used to pause or record time of programs \n",
    "# time related things in program execution \n",
    "\n",
    "print(time.time())\n",
    "time.sleep(5)\n",
    "print(time.time())"
   ]
  },
  {
   "cell_type": "code",
   "execution_count": null,
   "metadata": {},
   "outputs": [
    {
     "name": "stdout",
     "output_type": "stream",
     "text": [
      "123\n"
     ]
    }
   ],
   "source": [
    "import re \n",
    "\n",
    "# regular exppressions\n",
    "# used for strings \n",
    "\n",
    "\n",
    "# find numbers in  a string \n",
    "pattern = r\"\\d+\"\n",
    "text = 'There are 123 apples 456'\n",
    "match = re.search(pattern, text) \n",
    "print(match.group())"
   ]
  }
 ],
 "metadata": {
  "kernelspec": {
   "display_name": "Python 3",
   "language": "python",
   "name": "python3"
  },
  "language_info": {
   "codemirror_mode": {
    "name": "ipython",
    "version": 3
   },
   "file_extension": ".py",
   "mimetype": "text/x-python",
   "name": "python",
   "nbconvert_exporter": "python",
   "pygments_lexer": "ipython3",
   "version": "3.12.9"
  }
 },
 "nbformat": 4,
 "nbformat_minor": 2
}

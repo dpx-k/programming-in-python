{
 "cells": [
  {
   "cell_type": "markdown",
   "id": "ab4acacc",
   "metadata": {},
   "source": [
    "## Magic Method \n",
    "\n",
    "also know as dunder methods(double underscore methods), are special methods that start and end with double underscores. These methods enable you to define the behavious of objects for built-in operations, such as arithmetic operations, comparisons and more. \n",
    " \n",
    "they are predefined methods in python that you can override to change the behaviour of your objects"
   ]
  },
  {
   "cell_type": "markdown",
   "id": "12a991b8",
   "metadata": {},
   "source": [
    "some predefined methods are: \n",
    "\n",
    "__init__ - initialises a new instance of a class \n",
    "__str__ - returns a string representation of an object \n",
    "__repr__ - returns an official string representation of an object \n",
    "__len__ - returns the length of an object \n",
    "__getitem__ - gets an item from a container \n",
    "__setitem__ - sets an item in a container "
   ]
  },
  {
   "cell_type": "code",
   "execution_count": null,
   "id": "09e4a230",
   "metadata": {},
   "outputs": [
    {
     "data": {
      "text/plain": [
       "['__class__',\n",
       " '__delattr__',\n",
       " '__dict__',\n",
       " '__dir__',\n",
       " '__doc__',\n",
       " '__eq__',\n",
       " '__format__',\n",
       " '__ge__',\n",
       " '__getattribute__',\n",
       " '__getstate__',\n",
       " '__gt__',\n",
       " '__hash__',\n",
       " '__init__',\n",
       " '__init_subclass__',\n",
       " '__le__',\n",
       " '__lt__',\n",
       " '__module__',\n",
       " '__ne__',\n",
       " '__new__',\n",
       " '__reduce__',\n",
       " '__reduce_ex__',\n",
       " '__repr__',\n",
       " '__setattr__',\n",
       " '__sizeof__',\n",
       " '__str__',\n",
       " '__subclasshook__',\n",
       " '__weakref__']"
      ]
     },
     "execution_count": 1,
     "metadata": {},
     "output_type": "execute_result"
    }
   ],
   "source": [
    "class Person: \n",
    "    pass \n",
    "\n",
    "person = Person()\n",
    "dir(person) # list of magic methods for the person object "
   ]
  },
  {
   "cell_type": "code",
   "execution_count": null,
   "id": "7791b66b",
   "metadata": {},
   "outputs": [
    {
     "name": "stdout",
     "output_type": "stream",
     "text": [
      "<__main__.Person object at 0x0000021964D1E690>\n"
     ]
    }
   ],
   "source": [
    "print(person) # the output of this message is basically getting displayed from the __str__ function \n",
    "# these magic methods can be overridden to display custom messages "
   ]
  },
  {
   "cell_type": "code",
   "execution_count": 7,
   "id": "dafef10c",
   "metadata": {},
   "outputs": [
    {
     "name": "stdout",
     "output_type": "stream",
     "text": [
      "Deepak, 19 years old\n",
      "Person(name=Deepak, age=19)\n"
     ]
    }
   ],
   "source": [
    "# Using magic methods \n",
    "\n",
    "class Person: \n",
    "    def __init__(self, name, age):\n",
    "        self.name = name \n",
    "        self.age = age \n",
    "        \n",
    "    def __str__(self): \n",
    "        return f\"{self.name}, {self.age} years old\"\n",
    "    \n",
    "    def __repr__(self): \n",
    "        return f\"Person(name={self.name}, age={self.age})\"\n",
    "        \n",
    "person = Person(\"Deepak\", 19) \n",
    "print(person)\n",
    "print(repr(person))"
   ]
  }
 ],
 "metadata": {
  "kernelspec": {
   "display_name": "Python 3",
   "language": "python",
   "name": "python3"
  },
  "language_info": {
   "codemirror_mode": {
    "name": "ipython",
    "version": 3
   },
   "file_extension": ".py",
   "mimetype": "text/x-python",
   "name": "python",
   "nbconvert_exporter": "python",
   "pygments_lexer": "ipython3",
   "version": "3.12.9"
  }
 },
 "nbformat": 4,
 "nbformat_minor": 5
}

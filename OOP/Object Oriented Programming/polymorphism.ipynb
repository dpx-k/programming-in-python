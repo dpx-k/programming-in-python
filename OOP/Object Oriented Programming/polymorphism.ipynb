{
 "cells": [
  {
   "cell_type": "markdown",
   "id": "57f7a0de",
   "metadata": {},
   "source": [
    "# Polymorphism\n",
    "\n",
    "Polymorphism is the ability of different objects to respond to the same method or function call in ways specific to their individual types, allowing a single interface to represent different underlying forms. It enables code to work with objects of various classes through a common interface, facilitating flexibility and extensibility in object-oriented programming by treating related objects in a uniform manner despite their unique implementations."
   ]
  },
  {
   "cell_type": "code",
   "execution_count": 4,
   "id": "61e05a14",
   "metadata": {},
   "outputs": [
    {
     "name": "stdout",
     "output_type": "stream",
     "text": [
      "meow\n",
      "woof!\n"
     ]
    }
   ],
   "source": [
    "# Method Overriding \n",
    "\n",
    "'''\n",
    "Method overriding allows a child class to provide a specific implementation of \n",
    "a method that is already defined in its parent class\n",
    "'''\n",
    "\n",
    "## Base Class\n",
    "class Animal: \n",
    "    def speak(self): \n",
    "        return \"Sound of the Animal\" \n",
    "    \n",
    "## Derived Class 1 \n",
    "class Dog(Animal): \n",
    "    def speak(self): \n",
    "        return \"woof!\"\n",
    "    \n",
    "class Cat(Animal): \n",
    "    def speak(self): \n",
    "        return \"meow\"\n",
    "    \n",
    "# Function that demonstrates polymorphism \n",
    "def animal_speak(animal): \n",
    "    print(animal.speak())\n",
    "    \n",
    "    \n",
    "dog = Dog()\n",
    "dog.speak()\n",
    "\n",
    "cat = Cat()\n",
    "cat.speak()\n",
    "\n",
    "animal_speak(cat)\n",
    "animal_speak(dog)"
   ]
  },
  {
   "cell_type": "code",
   "execution_count": 5,
   "id": "ea53018f",
   "metadata": {},
   "outputs": [
    {
     "data": {
      "text/plain": [
       "'Area of the Circle is 331789.88458756235'"
      ]
     },
     "execution_count": 5,
     "metadata": {},
     "output_type": "execute_result"
    }
   ],
   "source": [
    "## Polymorphism with Functions and Methods \n",
    "from math import pi\n",
    "## Base clas \n",
    "\n",
    "class Shape: \n",
    "    def area(self): \n",
    "        return \"The area of the figure\" \n",
    "    \n",
    "# Derived class \n",
    "class Rectangle(Shape): \n",
    "    def __init__(self, width, height): \n",
    "        self.width = width\n",
    "        self.height = height\n",
    "        \n",
    "    def area(self): \n",
    "        return f\"Area of the Rectangle is {self.width * self.height}\"\n",
    "    \n",
    "# Derived Class 2 \n",
    "\n",
    "class Circle(Shape): \n",
    "    def __init__(self, radius): \n",
    "        self.radius = radius \n",
    "        \n",
    "    def area(self): \n",
    "        return f\"Area of the Circle is {self.radius * self.radius * pi}\"\n",
    "    \n",
    "# Function that demos polymorphism \n",
    "def calculate_area(shape): \n",
    "    return shape.area()\n",
    "\n",
    "rectangle = Rectangle(12,35)\n",
    "circle = Circle(324.98)\n",
    "\n",
    "calculate_area(rectangle)\n",
    "calculate_area(circle) \n",
    "\n"
   ]
  },
  {
   "cell_type": "markdown",
   "id": "4b0d1b2d",
   "metadata": {},
   "source": [
    "interface in python are in the form of abstract base classes \n",
    "\n",
    "Abstract Base Classes(ABCs) are used to define common methods for a group of related objects. They can enforce that derived classes implement particular methods, promoting consistency across different implementations "
   ]
  },
  {
   "cell_type": "code",
   "execution_count": 7,
   "id": "3d542845",
   "metadata": {},
   "outputs": [
    {
     "name": "stdout",
     "output_type": "stream",
     "text": [
      "Car Engine Started\n",
      "Motorcycle engine started\n"
     ]
    }
   ],
   "source": [
    "from abc import ABC, abstractmethod\n",
    "\n",
    "# Defining an abstract class \n",
    "class Vehicle(ABC): \n",
    "    @abstractmethod\n",
    "    def start_engine(self): \n",
    "        pass \n",
    "    \n",
    "# Derived class \n",
    "class Car(Vehicle): \n",
    "    def start_engine(self): \n",
    "        return \"Car Engine Started\" \n",
    "\n",
    "# Derived class 2 \n",
    "class Motorcycle(Vehicle): \n",
    "    def start_engine(self): \n",
    "        return \"Motorcycle engine started\"\n",
    "\n",
    "def start_vehicle(vehicle): \n",
    "    print(vehicle.start_engine())\n",
    "\n",
    "car = Car()\n",
    "bike = Motorcycle()\n",
    "\n",
    "start_vehicle(car)\n",
    "start_vehicle(bike)"
   ]
  },
  {
   "cell_type": "code",
   "execution_count": null,
   "id": "2222f871",
   "metadata": {},
   "outputs": [],
   "source": []
  }
 ],
 "metadata": {
  "kernelspec": {
   "display_name": "Python 3",
   "language": "python",
   "name": "python3"
  },
  "language_info": {
   "codemirror_mode": {
    "name": "ipython",
    "version": 3
   },
   "file_extension": ".py",
   "mimetype": "text/x-python",
   "name": "python",
   "nbconvert_exporter": "python",
   "pygments_lexer": "ipython3",
   "version": "3.12.9"
  }
 },
 "nbformat": 4,
 "nbformat_minor": 5
}
